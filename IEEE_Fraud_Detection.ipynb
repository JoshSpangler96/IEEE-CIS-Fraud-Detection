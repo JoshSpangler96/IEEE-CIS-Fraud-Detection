{
 "cells": [
  {
   "cell_type": "markdown",
   "id": "f5999f59",
   "metadata": {},
   "source": [
    " # IEEE-CIS Fraud Detection"
   ]
  },
  {
   "cell_type": "markdown",
   "id": "64d7d185",
   "metadata": {},
   "source": [
    "Vesta Corporation provided the dataset for this model. Vesta Corporation is the forerunner in guaranteed e-commerce payment solutions. Founded in 1995, Vesta pioneered the process of fully guaranteed card-not-present (CNP) payment transactions for the telecommunications industry. Since then, Vesta has firmly expanded data science and machine learning capabilities across the globe and solidified its position as the leader in guaranteed ecommerce payments. Today, Vesta guarantees more than $18B in transactions annually. "
   ]
  },
  {
   "cell_type": "markdown",
   "id": "d0a545d8",
   "metadata": {},
   "source": [
    "Problem: Binary classification with a heavy dataset imbalance"
   ]
  },
  {
   "cell_type": "markdown",
   "id": "01fda9c6",
   "metadata": {},
   "source": [
    "## Objective: Detect fraud in Transactions"
   ]
  },
  {
   "cell_type": "markdown",
   "id": "1e3a2feb",
   "metadata": {},
   "source": [
    "### Data:  \n",
    "  \n",
    "``isFraud`` is the binary that denotes whether a transaction is fraud or not and this is the dependent variable to be modeled for  \n",
    "\n",
    "Data is broken into two files ***identity*** and ***transaction***, these can be join by the ``TransactioID``  \n",
    "  \n",
    "***Identity Categorical Features***\n",
    "* DeviceType\n",
    "* DeviceInfo\n",
    "* id_12-id_38\n",
    "  \n",
    "***Transaction Categorical Features***\n",
    "* Product CD\n",
    "* emaildomain\n",
    "* card1-card6\n",
    "* addr1, addr2\n",
    "* P_emaildomain\n",
    "* R_emaildomain\n",
    "* M1-M9\n",
    "\n",
    "The ``TransactionDT`` feature is a timedelta from a given reference datetime (not an actual timestamp).\n"
   ]
  },
  {
   "cell_type": "markdown",
   "id": "6a119cb7",
   "metadata": {},
   "source": [
    "## Import Required Modules"
   ]
  },
  {
   "cell_type": "code",
   "execution_count": 110,
   "id": "ca5f1692",
   "metadata": {},
   "outputs": [],
   "source": [
    "import numpy as np\n",
    "import pandas as pd\n",
    "import gc\n",
    "import scipy.stats as stats\n",
    "import matplotlib.pyplot as plt\n",
    "import seaborn as sns\n",
    "import datetime\n",
    "import itertools\n",
    "\n",
    "from sklearn.metrics import roc_curve, roc_auc_score\n",
    "from sklearn.model_selection import train_test_split\n",
    "from sklearn.preprocessing import LabelEncoder\n",
    "from sklearn.utils import resample\n",
    "from sklearn.model_selection import RandomizedSearchCV\n",
    "import lightgbm as lgb\n",
    "import xgboost as xgb\n",
    "from catboost import CatBoostClassifier, Pool\n",
    "from sklearn.metrics import classification_report\n",
    "from catboost.utils import get_roc_curve\n",
    "from sklearn.metrics import confusion_matrix\n",
    "from sklearn.metrics import ConfusionMatrixDisplay\n",
    "import warnings\n",
    "warnings.filterwarnings('ignore')\n",
    "\n",
    "\n",
    "# special IPython command to prepare the notebook for matplotlib and other libraries\n",
    "%matplotlib inline "
   ]
  },
  {
   "cell_type": "code",
   "execution_count": 90,
   "id": "bdec80f4",
   "metadata": {},
   "outputs": [],
   "source": [
    "# Functions\n",
    "\n",
    "# From kernel https://www.kaggle.com/gemartin/load-data-reduce-memory-usage\n",
    "# WARNING! THIS CAN DAMAGE THE DATA \n",
    "def reduce_mem_usage2(df):\n",
    "    \"\"\" iterate through all the columns of a dataframe and modify the data type\n",
    "        to reduce memory usage.        \n",
    "    \"\"\"\n",
    "    start_mem = df.memory_usage().sum() / 1024**2\n",
    "    print('Memory usage of dataframe is {:.2f} MB'.format(start_mem))\n",
    "    \n",
    "    for col in df.columns:\n",
    "        col_type = df[col].dtype\n",
    "        \n",
    "        if col_type != object:\n",
    "            c_min = df[col].min()\n",
    "            c_max = df[col].max()\n",
    "            if str(col_type)[:3] == 'int':\n",
    "                if c_min > np.iinfo(np.int8).min and c_max < np.iinfo(np.int8).max:\n",
    "                    df[col] = df[col].astype(np.int8)\n",
    "                elif c_min > np.iinfo(np.int16).min and c_max < np.iinfo(np.int16).max:\n",
    "                    df[col] = df[col].astype(np.int16)\n",
    "                elif c_min > np.iinfo(np.int32).min and c_max < np.iinfo(np.int32).max:\n",
    "                    df[col] = df[col].astype(np.int32)\n",
    "                elif c_min > np.iinfo(np.int64).min and c_max < np.iinfo(np.int64).max:\n",
    "                    df[col] = df[col].astype(np.int64)  \n",
    "            else:\n",
    "                if c_min > np.finfo(np.float16).min and c_max < np.finfo(np.float16).max:\n",
    "                    df[col] = df[col].astype(np.float16)\n",
    "                elif c_min > np.finfo(np.float32).min and c_max < np.finfo(np.float32).max:\n",
    "                    df[col] = df[col].astype(np.float32)\n",
    "                else:\n",
    "                    df[col] = df[col].astype(np.float64)\n",
    "        else:\n",
    "            df[col] = df[col].astype('category')\n",
    "\n",
    "    end_mem = df.memory_usage().sum() / 1024**2\n",
    "    print('Memory usage after optimization is: {:.2f} MB'.format(end_mem))\n",
    "    print('Decreased by {:.1f}%'.format(100 * (start_mem - end_mem) / start_mem))\n",
    "    \n",
    "    return df\n",
    "\n",
    "def buildROC(target_test,test_preds):\n",
    "    fpr, tpr, threshold = metrics.roc_curve(target_test, test_preds)\n",
    "    \n",
    "    # plot the no skill line\n",
    "    plt.plot([0, 1], [0, 1], linestyle='--')\n",
    "    \n",
    "    # plot the ro curve \n",
    "    roc_auc = metrics.auc(fpr, tpr)\n",
    "    plt.plot(fpr, tpr, 'b', label = 'AUC = %0.2f' % roc_auc)\n",
    "    plt.title('Receiver Operating Characteristic')\n",
    "    plt.legend(loc = 'lower right')\n",
    "    plt.ylabel('True Positive Rate')\n",
    "    plt.xlabel('False Positive Rate')\n",
    "    plt.show()\n",
    "    \n",
    "    \n",
    "def plot_confusion_matrix(cm, title, classes=['fraud', 'normal'],\n",
    "                          cmap=plt.cm.Blues, save=False, saveas=\"MyFigure.png\"):\n",
    "    \n",
    "    \"\"\"Usage: plot_confusion_matrix(cm, title=string, save=boolean, saveas=string)\"\"\"\n",
    "    # print Confusion matrix with blue gradient colours\n",
    "    \n",
    "    cm = cm.astype('float') / cm.sum(axis=1)[:, np.newaxis]\n",
    "    \n",
    "    plt.imshow(cm, interpolation='nearest', cmap=cmap)\n",
    "    plt.title(title)\n",
    "    plt.colorbar()\n",
    "    tick_marks = np.arange(len(classes))\n",
    "    plt.xticks(tick_marks, classes, rotation=90)\n",
    "    plt.yticks(tick_marks, classes)\n",
    "\n",
    "    fmt = '.1%'\n",
    "    thresh = cm.max() / 2.\n",
    "    for i, j in itertools.product(range(cm.shape[0]), range(cm.shape[1])):\n",
    "        plt.text(j, i, format(cm[i, j], fmt),\n",
    "                 horizontalalignment=\"center\",\n",
    "                 color=\"white\" if cm[i, j] > thresh else \"black\")\n",
    "\n",
    "    plt.tight_layout()\n",
    "    plt.ylabel('True label')\n",
    "    plt.xlabel('Predicted label')\n",
    "    \n",
    "    if save:\n",
    "        plt.savefig(saveas, dpi=100)\n",
    "\n",
    "def plot_feature_importance(clf, training_set: pd.DataFrame):\n",
    "    feature_imp = pd.DataFrame(sorted(zip(clf.feature_importances_, training_set.columns)), columns=['Value','Feature'])\n",
    "    plt.figure(figsize=(20, 10))\n",
    "    sns.barplot(x=\"Value\", y=\"Feature\", data=feature_imp.sort_values(by=\"Value\", ascending=False).iloc[:30])\n",
    "    plt.title('XGB Most Important Features')\n",
    "    plt.tight_layout()\n",
    "    plt.show()"
   ]
  },
  {
   "cell_type": "markdown",
   "id": "1c65fef3",
   "metadata": {},
   "source": [
    "## Load the Dataset"
   ]
  },
  {
   "cell_type": "code",
   "execution_count": 3,
   "id": "055a2a0e",
   "metadata": {},
   "outputs": [],
   "source": [
    "FOLDER_PATH = 'data'\n",
    "train_identity = pd.read_csv(f'{FOLDER_PATH}/train_identity.csv')\n",
    "train_transaction = pd.read_csv(f'{FOLDER_PATH}/train_transaction.csv')\n",
    "test_identity = pd.read_csv(f'{FOLDER_PATH}/test_identity.csv')\n",
    "test_transaction = pd.read_csv(f'{FOLDER_PATH}/test_transaction.csv')"
   ]
  },
  {
   "cell_type": "code",
   "execution_count": 4,
   "id": "c5feea83",
   "metadata": {},
   "outputs": [],
   "source": [
    "# merge the testing and training data\n",
    "train = pd.merge(train_transaction, train_identity, on='TransactionID', how='left')\n",
    "test = pd.merge(test_transaction, test_identity, on='TransactionID', how='left')"
   ]
  },
  {
   "cell_type": "code",
   "execution_count": 5,
   "id": "efe7682d",
   "metadata": {},
   "outputs": [
    {
     "name": "stdout",
     "output_type": "stream",
     "text": [
      "Transaction df shape: (590540, 394)\n"
     ]
    },
    {
     "data": {
      "text/html": [
       "<div>\n",
       "<style scoped>\n",
       "    .dataframe tbody tr th:only-of-type {\n",
       "        vertical-align: middle;\n",
       "    }\n",
       "\n",
       "    .dataframe tbody tr th {\n",
       "        vertical-align: top;\n",
       "    }\n",
       "\n",
       "    .dataframe thead th {\n",
       "        text-align: right;\n",
       "    }\n",
       "</style>\n",
       "<table border=\"1\" class=\"dataframe\">\n",
       "  <thead>\n",
       "    <tr style=\"text-align: right;\">\n",
       "      <th></th>\n",
       "      <th>TransactionID</th>\n",
       "      <th>isFraud</th>\n",
       "      <th>TransactionDT</th>\n",
       "      <th>TransactionAmt</th>\n",
       "      <th>ProductCD</th>\n",
       "      <th>card1</th>\n",
       "      <th>card2</th>\n",
       "      <th>card3</th>\n",
       "      <th>card4</th>\n",
       "      <th>card5</th>\n",
       "      <th>...</th>\n",
       "      <th>V330</th>\n",
       "      <th>V331</th>\n",
       "      <th>V332</th>\n",
       "      <th>V333</th>\n",
       "      <th>V334</th>\n",
       "      <th>V335</th>\n",
       "      <th>V336</th>\n",
       "      <th>V337</th>\n",
       "      <th>V338</th>\n",
       "      <th>V339</th>\n",
       "    </tr>\n",
       "  </thead>\n",
       "  <tbody>\n",
       "    <tr>\n",
       "      <th>0</th>\n",
       "      <td>2987000</td>\n",
       "      <td>0</td>\n",
       "      <td>86400</td>\n",
       "      <td>68.5</td>\n",
       "      <td>W</td>\n",
       "      <td>13926</td>\n",
       "      <td>NaN</td>\n",
       "      <td>150.0</td>\n",
       "      <td>discover</td>\n",
       "      <td>142.0</td>\n",
       "      <td>...</td>\n",
       "      <td>NaN</td>\n",
       "      <td>NaN</td>\n",
       "      <td>NaN</td>\n",
       "      <td>NaN</td>\n",
       "      <td>NaN</td>\n",
       "      <td>NaN</td>\n",
       "      <td>NaN</td>\n",
       "      <td>NaN</td>\n",
       "      <td>NaN</td>\n",
       "      <td>NaN</td>\n",
       "    </tr>\n",
       "    <tr>\n",
       "      <th>1</th>\n",
       "      <td>2987001</td>\n",
       "      <td>0</td>\n",
       "      <td>86401</td>\n",
       "      <td>29.0</td>\n",
       "      <td>W</td>\n",
       "      <td>2755</td>\n",
       "      <td>404.0</td>\n",
       "      <td>150.0</td>\n",
       "      <td>mastercard</td>\n",
       "      <td>102.0</td>\n",
       "      <td>...</td>\n",
       "      <td>NaN</td>\n",
       "      <td>NaN</td>\n",
       "      <td>NaN</td>\n",
       "      <td>NaN</td>\n",
       "      <td>NaN</td>\n",
       "      <td>NaN</td>\n",
       "      <td>NaN</td>\n",
       "      <td>NaN</td>\n",
       "      <td>NaN</td>\n",
       "      <td>NaN</td>\n",
       "    </tr>\n",
       "    <tr>\n",
       "      <th>2</th>\n",
       "      <td>2987002</td>\n",
       "      <td>0</td>\n",
       "      <td>86469</td>\n",
       "      <td>59.0</td>\n",
       "      <td>W</td>\n",
       "      <td>4663</td>\n",
       "      <td>490.0</td>\n",
       "      <td>150.0</td>\n",
       "      <td>visa</td>\n",
       "      <td>166.0</td>\n",
       "      <td>...</td>\n",
       "      <td>NaN</td>\n",
       "      <td>NaN</td>\n",
       "      <td>NaN</td>\n",
       "      <td>NaN</td>\n",
       "      <td>NaN</td>\n",
       "      <td>NaN</td>\n",
       "      <td>NaN</td>\n",
       "      <td>NaN</td>\n",
       "      <td>NaN</td>\n",
       "      <td>NaN</td>\n",
       "    </tr>\n",
       "    <tr>\n",
       "      <th>3</th>\n",
       "      <td>2987003</td>\n",
       "      <td>0</td>\n",
       "      <td>86499</td>\n",
       "      <td>50.0</td>\n",
       "      <td>W</td>\n",
       "      <td>18132</td>\n",
       "      <td>567.0</td>\n",
       "      <td>150.0</td>\n",
       "      <td>mastercard</td>\n",
       "      <td>117.0</td>\n",
       "      <td>...</td>\n",
       "      <td>NaN</td>\n",
       "      <td>NaN</td>\n",
       "      <td>NaN</td>\n",
       "      <td>NaN</td>\n",
       "      <td>NaN</td>\n",
       "      <td>NaN</td>\n",
       "      <td>NaN</td>\n",
       "      <td>NaN</td>\n",
       "      <td>NaN</td>\n",
       "      <td>NaN</td>\n",
       "    </tr>\n",
       "    <tr>\n",
       "      <th>4</th>\n",
       "      <td>2987004</td>\n",
       "      <td>0</td>\n",
       "      <td>86506</td>\n",
       "      <td>50.0</td>\n",
       "      <td>H</td>\n",
       "      <td>4497</td>\n",
       "      <td>514.0</td>\n",
       "      <td>150.0</td>\n",
       "      <td>mastercard</td>\n",
       "      <td>102.0</td>\n",
       "      <td>...</td>\n",
       "      <td>0.0</td>\n",
       "      <td>0.0</td>\n",
       "      <td>0.0</td>\n",
       "      <td>0.0</td>\n",
       "      <td>0.0</td>\n",
       "      <td>0.0</td>\n",
       "      <td>0.0</td>\n",
       "      <td>0.0</td>\n",
       "      <td>0.0</td>\n",
       "      <td>0.0</td>\n",
       "    </tr>\n",
       "  </tbody>\n",
       "</table>\n",
       "<p>5 rows × 394 columns</p>\n",
       "</div>"
      ],
      "text/plain": [
       "   TransactionID  isFraud  TransactionDT  TransactionAmt ProductCD  card1  \\\n",
       "0        2987000        0          86400            68.5         W  13926   \n",
       "1        2987001        0          86401            29.0         W   2755   \n",
       "2        2987002        0          86469            59.0         W   4663   \n",
       "3        2987003        0          86499            50.0         W  18132   \n",
       "4        2987004        0          86506            50.0         H   4497   \n",
       "\n",
       "   card2  card3       card4  card5  ... V330  V331  V332  V333  V334 V335  \\\n",
       "0    NaN  150.0    discover  142.0  ...  NaN   NaN   NaN   NaN   NaN  NaN   \n",
       "1  404.0  150.0  mastercard  102.0  ...  NaN   NaN   NaN   NaN   NaN  NaN   \n",
       "2  490.0  150.0        visa  166.0  ...  NaN   NaN   NaN   NaN   NaN  NaN   \n",
       "3  567.0  150.0  mastercard  117.0  ...  NaN   NaN   NaN   NaN   NaN  NaN   \n",
       "4  514.0  150.0  mastercard  102.0  ...  0.0   0.0   0.0   0.0   0.0  0.0   \n",
       "\n",
       "  V336  V337  V338  V339  \n",
       "0  NaN   NaN   NaN   NaN  \n",
       "1  NaN   NaN   NaN   NaN  \n",
       "2  NaN   NaN   NaN   NaN  \n",
       "3  NaN   NaN   NaN   NaN  \n",
       "4  0.0   0.0   0.0   0.0  \n",
       "\n",
       "[5 rows x 394 columns]"
      ]
     },
     "execution_count": 5,
     "metadata": {},
     "output_type": "execute_result"
    }
   ],
   "source": [
    "print(f'Transaction df shape: {train_transaction.shape}')\n",
    "train_transaction.head()"
   ]
  },
  {
   "cell_type": "code",
   "execution_count": 6,
   "id": "4f977de3",
   "metadata": {},
   "outputs": [
    {
     "name": "stdout",
     "output_type": "stream",
     "text": [
      "Identity df shape: (144233, 41)\n"
     ]
    },
    {
     "data": {
      "text/html": [
       "<div>\n",
       "<style scoped>\n",
       "    .dataframe tbody tr th:only-of-type {\n",
       "        vertical-align: middle;\n",
       "    }\n",
       "\n",
       "    .dataframe tbody tr th {\n",
       "        vertical-align: top;\n",
       "    }\n",
       "\n",
       "    .dataframe thead th {\n",
       "        text-align: right;\n",
       "    }\n",
       "</style>\n",
       "<table border=\"1\" class=\"dataframe\">\n",
       "  <thead>\n",
       "    <tr style=\"text-align: right;\">\n",
       "      <th></th>\n",
       "      <th>TransactionID</th>\n",
       "      <th>id_01</th>\n",
       "      <th>id_02</th>\n",
       "      <th>id_03</th>\n",
       "      <th>id_04</th>\n",
       "      <th>id_05</th>\n",
       "      <th>id_06</th>\n",
       "      <th>id_07</th>\n",
       "      <th>id_08</th>\n",
       "      <th>id_09</th>\n",
       "      <th>...</th>\n",
       "      <th>id_31</th>\n",
       "      <th>id_32</th>\n",
       "      <th>id_33</th>\n",
       "      <th>id_34</th>\n",
       "      <th>id_35</th>\n",
       "      <th>id_36</th>\n",
       "      <th>id_37</th>\n",
       "      <th>id_38</th>\n",
       "      <th>DeviceType</th>\n",
       "      <th>DeviceInfo</th>\n",
       "    </tr>\n",
       "  </thead>\n",
       "  <tbody>\n",
       "    <tr>\n",
       "      <th>0</th>\n",
       "      <td>2987004</td>\n",
       "      <td>0.0</td>\n",
       "      <td>70787.0</td>\n",
       "      <td>NaN</td>\n",
       "      <td>NaN</td>\n",
       "      <td>NaN</td>\n",
       "      <td>NaN</td>\n",
       "      <td>NaN</td>\n",
       "      <td>NaN</td>\n",
       "      <td>NaN</td>\n",
       "      <td>...</td>\n",
       "      <td>samsung browser 6.2</td>\n",
       "      <td>32.0</td>\n",
       "      <td>2220x1080</td>\n",
       "      <td>match_status:2</td>\n",
       "      <td>T</td>\n",
       "      <td>F</td>\n",
       "      <td>T</td>\n",
       "      <td>T</td>\n",
       "      <td>mobile</td>\n",
       "      <td>SAMSUNG SM-G892A Build/NRD90M</td>\n",
       "    </tr>\n",
       "    <tr>\n",
       "      <th>1</th>\n",
       "      <td>2987008</td>\n",
       "      <td>-5.0</td>\n",
       "      <td>98945.0</td>\n",
       "      <td>NaN</td>\n",
       "      <td>NaN</td>\n",
       "      <td>0.0</td>\n",
       "      <td>-5.0</td>\n",
       "      <td>NaN</td>\n",
       "      <td>NaN</td>\n",
       "      <td>NaN</td>\n",
       "      <td>...</td>\n",
       "      <td>mobile safari 11.0</td>\n",
       "      <td>32.0</td>\n",
       "      <td>1334x750</td>\n",
       "      <td>match_status:1</td>\n",
       "      <td>T</td>\n",
       "      <td>F</td>\n",
       "      <td>F</td>\n",
       "      <td>T</td>\n",
       "      <td>mobile</td>\n",
       "      <td>iOS Device</td>\n",
       "    </tr>\n",
       "    <tr>\n",
       "      <th>2</th>\n",
       "      <td>2987010</td>\n",
       "      <td>-5.0</td>\n",
       "      <td>191631.0</td>\n",
       "      <td>0.0</td>\n",
       "      <td>0.0</td>\n",
       "      <td>0.0</td>\n",
       "      <td>0.0</td>\n",
       "      <td>NaN</td>\n",
       "      <td>NaN</td>\n",
       "      <td>0.0</td>\n",
       "      <td>...</td>\n",
       "      <td>chrome 62.0</td>\n",
       "      <td>NaN</td>\n",
       "      <td>NaN</td>\n",
       "      <td>NaN</td>\n",
       "      <td>F</td>\n",
       "      <td>F</td>\n",
       "      <td>T</td>\n",
       "      <td>T</td>\n",
       "      <td>desktop</td>\n",
       "      <td>Windows</td>\n",
       "    </tr>\n",
       "    <tr>\n",
       "      <th>3</th>\n",
       "      <td>2987011</td>\n",
       "      <td>-5.0</td>\n",
       "      <td>221832.0</td>\n",
       "      <td>NaN</td>\n",
       "      <td>NaN</td>\n",
       "      <td>0.0</td>\n",
       "      <td>-6.0</td>\n",
       "      <td>NaN</td>\n",
       "      <td>NaN</td>\n",
       "      <td>NaN</td>\n",
       "      <td>...</td>\n",
       "      <td>chrome 62.0</td>\n",
       "      <td>NaN</td>\n",
       "      <td>NaN</td>\n",
       "      <td>NaN</td>\n",
       "      <td>F</td>\n",
       "      <td>F</td>\n",
       "      <td>T</td>\n",
       "      <td>T</td>\n",
       "      <td>desktop</td>\n",
       "      <td>NaN</td>\n",
       "    </tr>\n",
       "    <tr>\n",
       "      <th>4</th>\n",
       "      <td>2987016</td>\n",
       "      <td>0.0</td>\n",
       "      <td>7460.0</td>\n",
       "      <td>0.0</td>\n",
       "      <td>0.0</td>\n",
       "      <td>1.0</td>\n",
       "      <td>0.0</td>\n",
       "      <td>NaN</td>\n",
       "      <td>NaN</td>\n",
       "      <td>0.0</td>\n",
       "      <td>...</td>\n",
       "      <td>chrome 62.0</td>\n",
       "      <td>24.0</td>\n",
       "      <td>1280x800</td>\n",
       "      <td>match_status:2</td>\n",
       "      <td>T</td>\n",
       "      <td>F</td>\n",
       "      <td>T</td>\n",
       "      <td>T</td>\n",
       "      <td>desktop</td>\n",
       "      <td>MacOS</td>\n",
       "    </tr>\n",
       "  </tbody>\n",
       "</table>\n",
       "<p>5 rows × 41 columns</p>\n",
       "</div>"
      ],
      "text/plain": [
       "   TransactionID  id_01     id_02  id_03  id_04  id_05  id_06  id_07  id_08  \\\n",
       "0        2987004    0.0   70787.0    NaN    NaN    NaN    NaN    NaN    NaN   \n",
       "1        2987008   -5.0   98945.0    NaN    NaN    0.0   -5.0    NaN    NaN   \n",
       "2        2987010   -5.0  191631.0    0.0    0.0    0.0    0.0    NaN    NaN   \n",
       "3        2987011   -5.0  221832.0    NaN    NaN    0.0   -6.0    NaN    NaN   \n",
       "4        2987016    0.0    7460.0    0.0    0.0    1.0    0.0    NaN    NaN   \n",
       "\n",
       "   id_09  ...                id_31  id_32      id_33           id_34  id_35  \\\n",
       "0    NaN  ...  samsung browser 6.2   32.0  2220x1080  match_status:2      T   \n",
       "1    NaN  ...   mobile safari 11.0   32.0   1334x750  match_status:1      T   \n",
       "2    0.0  ...          chrome 62.0    NaN        NaN             NaN      F   \n",
       "3    NaN  ...          chrome 62.0    NaN        NaN             NaN      F   \n",
       "4    0.0  ...          chrome 62.0   24.0   1280x800  match_status:2      T   \n",
       "\n",
       "  id_36 id_37  id_38  DeviceType                     DeviceInfo  \n",
       "0     F     T      T      mobile  SAMSUNG SM-G892A Build/NRD90M  \n",
       "1     F     F      T      mobile                     iOS Device  \n",
       "2     F     T      T     desktop                        Windows  \n",
       "3     F     T      T     desktop                            NaN  \n",
       "4     F     T      T     desktop                          MacOS  \n",
       "\n",
       "[5 rows x 41 columns]"
      ]
     },
     "execution_count": 6,
     "metadata": {},
     "output_type": "execute_result"
    }
   ],
   "source": [
    "print(f'Identity df shape: {train_identity.shape}')\n",
    "train_identity.head()"
   ]
  },
  {
   "cell_type": "code",
   "execution_count": 7,
   "id": "4436a057",
   "metadata": {},
   "outputs": [],
   "source": [
    "del train_identity, train_transaction, test_identity, test_transaction"
   ]
  },
  {
   "cell_type": "markdown",
   "id": "877370f7",
   "metadata": {},
   "source": [
    "## Exploratory Data Analysis"
   ]
  },
  {
   "cell_type": "markdown",
   "id": "afccab6a",
   "metadata": {},
   "source": [
    "Click [here](https://github.com/JoshSpangler96/IEEE-CIS-Fraud-Detection/blob/main/IEEE_Fraud_Detection_EDA.ipynb) to view the EDA I performed for this dataset \\\n",
    "\\\n",
    "Key takeaways from EDA: \n",
    "* Highly imbalanced dataset with 3.5% fraud\n",
    "* Train data and test data are seperated by time. Need time based split for validation set\n",
    "* Ff the 415 features in the V, C, D, M, and ID categories there are 136 uncorrelated useful features\n",
    "* Highest precentage of Fraud happens early morning"
   ]
  },
  {
   "cell_type": "code",
   "execution_count": 8,
   "id": "9e633626",
   "metadata": {
    "scrolled": true
   },
   "outputs": [],
   "source": [
    "test.columns = test.columns.str.replace('[-]', '_')"
   ]
  },
  {
   "cell_type": "code",
   "execution_count": 9,
   "id": "8104146f",
   "metadata": {
    "scrolled": false
   },
   "outputs": [
    {
     "name": "stdout",
     "output_type": "stream",
     "text": [
      "Datasets have 434 features before reduction\n",
      "Datasets have 155 features after reduction\n"
     ]
    }
   ],
   "source": [
    "# Keep only the useful columns from the EDA\n",
    "features_to_use = [\n",
    "    'TransactionID', 'TransactionDT', 'TransactionAmt', \n",
    "    'ProductCD', 'card1', 'card2', 'card3', 'card4', 'card5', 'card6', 'DeviceType', \n",
    "    'DeviceInfo', 'addr1', 'addr2', 'dist1', 'dist2', 'P_emaildomain', 'R_emaildomain', \n",
    "    'V147', 'V142', 'V1', 'V174', 'V109', 'V201', 'V238', 'V271', 'V78', \n",
    "    'V160', 'V65', 'V339', 'V27', 'V138', 'V320', 'V6', 'V223', 'V114', \n",
    "    'V118', 'V173', 'V80', 'V107', 'V258', 'V44', 'V198', 'V252', 'V220', \n",
    "    'V309', 'V209', 'V67', 'V124', 'V260', 'V155', 'V176', 'V55', 'V36', \n",
    "    'V325', 'V127', 'V175', 'V82', 'V20', 'V329', 'V111', 'V139', 'V210', \n",
    "    'V30', 'V86', 'V3', 'V37', 'V13', 'V207', 'V286', 'V47', 'V162', 'V8', \n",
    "    'V62', 'V234', 'V56', 'V240', 'V23', 'V4', 'V115', 'V166', 'V121', 'V76', \n",
    "    'V259', 'V312', 'V120', 'V169', 'V305', 'V291', 'V185', 'V26', 'V241', \n",
    "    'V250', 'V108', 'V261', 'V54', 'D5', 'D14', 'D1', 'D9', 'D13', 'D8', \n",
    "    'D15', 'D10', 'C1', 'C5', 'C3', 'M5', 'M7', 'M4', 'M2', 'M9', 'M6', \n",
    "    'M1', 'M3', 'M8', 'id_08', 'id_09', 'id_28', 'id_07', 'id_37', 'id_01', \n",
    "    'id_27', 'id_25', 'id_21', 'id_12', 'id_38', 'id_35', 'id_30', 'id_04', \n",
    "    'id_05', 'id_29', 'id_36', 'id_34', 'id_11', 'id_26', 'id_13', 'id_24', \n",
    "    'id_23', 'id_20', 'id_17', 'id_14', 'id_31', 'id_32', 'id_03', 'id_10', \n",
    "    'id_18', 'id_02', 'id_06', 'id_16', 'id_15', 'id_19', 'id_33', 'id_22']\n",
    "\n",
    "#reduce both test and train\n",
    "print(f'Datasets have {len(train.columns)} features before reduction')\n",
    "train_features = features_to_use + ['isFraud']\n",
    "train = train[train_features]\n",
    "test = test[features_to_use]\n",
    "print(f'Datasets have {len(train.columns)} features after reduction')"
   ]
  },
  {
   "cell_type": "markdown",
   "id": "44d05c2e",
   "metadata": {},
   "source": [
    "## Feature Engineering"
   ]
  },
  {
   "cell_type": "code",
   "execution_count": 10,
   "id": "ba48fd6a",
   "metadata": {},
   "outputs": [
    {
     "name": "stdout",
     "output_type": "stream",
     "text": [
      "Datasets have 165 features after feature engineering\n"
     ]
    }
   ],
   "source": [
    "START_DATE = '2017-12-01'\n",
    "startdate = datetime.datetime.strptime(START_DATE, \"%Y-%m-%d\")\n",
    "\n",
    "# create a cents feature\n",
    "datasets = [train, test]\n",
    "for data in datasets:\n",
    "    data['cents'] = (data['TransactionAmt'] - np.floor(data['TransactionAmt'])).astype('float32')\n",
    "    data['log_TransactionAmt'] = np.log(data['TransactionAmt'])\n",
    "    data[['P_email_1', 'P_email_2', 'P_email_3']] = data['P_emaildomain'].str.split('.', expand=True)\n",
    "    data.drop('P_emaildomain', axis=1, inplace=True)\n",
    "    data[['R_email_1', 'R_email_2', 'R_email_3']] = data['R_emaildomain'].str.split('.', expand=True)\n",
    "    data.drop('R_emaildomain', axis=1, inplace=True)\n",
    "    data['Date'] = data['TransactionDT'].apply(lambda x: (startdate + datetime.timedelta(seconds=x)))\n",
    "    data['Weekdays'] = data['Date'].dt.dayofweek\n",
    "    data['Hours'] = data['Date'].dt.hour\n",
    "    data['Days'] = data['Date'].dt.day\n",
    "    \n",
    "print(f'Datasets have {len(train.columns)} features after feature engineering')"
   ]
  },
  {
   "cell_type": "markdown",
   "id": "b095a188",
   "metadata": {},
   "source": [
    "## Prepare for Modeling"
   ]
  },
  {
   "cell_type": "markdown",
   "id": "eb8370c9",
   "metadata": {},
   "source": [
    "***Dropping Bad Columns***"
   ]
  },
  {
   "cell_type": "code",
   "execution_count": 11,
   "id": "b7380b62",
   "metadata": {},
   "outputs": [],
   "source": [
    "# row_count = train.shape[0]\n",
    "# row_count"
   ]
  },
  {
   "cell_type": "code",
   "execution_count": 12,
   "id": "67af49fb",
   "metadata": {},
   "outputs": [],
   "source": [
    "# # get a list of columns with over 90% null values\n",
    "# nan_col = [col for col in train.columns if (train[col].isnull().sum() / row_count) > 0.9]\n",
    "# nan_col_test = [col for col in test.columns if (test[col].isnull().sum() / row_count) > 0.9]\n",
    "\n",
    "# # get a list of columns that are dominated by one value\n",
    "# vast_majority_col = [col for col in train.columns \\\n",
    "#                            if train[col].value_counts(dropna=False, normalize=True).values[0] > 0.9]\n",
    "# vast_majority_col_test = [col for col in test.columns \\\n",
    "#                            if test[col].value_counts(dropna=False, normalize=True).values[0] > 0.9]"
   ]
  },
  {
   "cell_type": "code",
   "execution_count": 13,
   "id": "ae509688",
   "metadata": {},
   "outputs": [],
   "source": [
    "# drop_cols = nan_col + nan_col_test + vast_majority_col + vast_majority_col_test\n",
    "# drop_cols.remove('isFraud')"
   ]
  },
  {
   "cell_type": "code",
   "execution_count": 14,
   "id": "094a28cf",
   "metadata": {},
   "outputs": [],
   "source": [
    "# print(f'Dropping {len(train_drop)} columns from the dataframe')"
   ]
  },
  {
   "cell_type": "code",
   "execution_count": 15,
   "id": "8c3daf25",
   "metadata": {},
   "outputs": [],
   "source": [
    "# train.drop(train_drop, axis=1, inplace=True)\n",
    "# test.drop(test_drop, axis=1, inplace=True)"
   ]
  },
  {
   "cell_type": "markdown",
   "id": "e19b7af4",
   "metadata": {},
   "source": [
    "***Categorical Feature Encoding***"
   ]
  },
  {
   "cell_type": "code",
   "execution_count": 16,
   "id": "6e8bf39e",
   "metadata": {},
   "outputs": [
    {
     "name": "stdout",
     "output_type": "stream",
     "text": [
      "['ProductCD', 'card4', 'card6', 'DeviceType', 'DeviceInfo', 'M5', 'M7', 'M4', 'M2', 'M9', 'M6', 'M1', 'M3', 'M8', 'id_28', 'id_37', 'id_27', 'id_12', 'id_38', 'id_35', 'id_30', 'id_29', 'id_36', 'id_34', 'id_23', 'id_31', 'id_16', 'id_15', 'id_33', 'cents', 'P_email_1', 'P_email_2', 'P_email_3', 'R_email_1', 'R_email_2', 'R_email_3']\n"
     ]
    }
   ],
   "source": [
    "# get a list of all categorical features in the datasets\n",
    "d_type = pd.DataFrame(train.dtypes)\n",
    "d_type.rename({0: 'dtype'}, axis=1,  inplace=True)\n",
    "d_type.reset_index(inplace=True)\n",
    "d_type['dtype'] = d_type['dtype'].astype('string')\n",
    "cat_col = d_type.loc[(d_type['dtype'] != 'int64') &\\\n",
    "                     (d_type['dtype'] != 'float64') &\\\n",
    "                     (d_type['dtype'] != 'datetime64[ns]')]['index'].to_list()\n",
    "\n",
    "print(cat_col)"
   ]
  },
  {
   "cell_type": "code",
   "execution_count": 17,
   "id": "501b45b1",
   "metadata": {},
   "outputs": [],
   "source": [
    "for i in range(len(cat_col)):\n",
    "    if cat_col[i] in train.columns:\n",
    "        le = LabelEncoder()\n",
    "        le.fit(list(train[cat_col[i]].astype(str).values) + list(test[cat_col[i]].astype(str).values))\n",
    "        train[cat_col[i]] = le.transform(list(train[cat_col[i]].astype(str).values))\n",
    "        test[cat_col[i]] = le.transform(list(test[cat_col[i]].astype(str).values))   "
   ]
  },
  {
   "cell_type": "markdown",
   "id": "74821e79",
   "metadata": {},
   "source": [
    "***Clean Missing Values***"
   ]
  },
  {
   "cell_type": "code",
   "execution_count": 18,
   "id": "49f3d511",
   "metadata": {},
   "outputs": [],
   "source": [
    "train.replace([np.inf, -np.inf], np.nan, inplace=True)\n",
    "test.replace([np.inf, -np.inf], np.nan, inplace=True)"
   ]
  },
  {
   "cell_type": "code",
   "execution_count": 19,
   "id": "6bedde32",
   "metadata": {},
   "outputs": [],
   "source": [
    "train.fillna(train.median(), inplace=True)\n",
    "test.fillna(test.median(), inplace=True)"
   ]
  },
  {
   "cell_type": "markdown",
   "id": "4da0192a",
   "metadata": {},
   "source": [
    "***Reduce Memory Usage***"
   ]
  },
  {
   "cell_type": "code",
   "execution_count": 76,
   "id": "a4851625",
   "metadata": {},
   "outputs": [],
   "source": [
    "# set up X train and y train\n",
    "X = train.sort_values('TransactionDT').drop(['isFraud', 'TransactionDT', 'TransactionID', 'Date'], axis=1)\n",
    "y = train.sort_values('TransactionDT')['isFraud']"
   ]
  },
  {
   "cell_type": "code",
   "execution_count": 77,
   "id": "7be399fc",
   "metadata": {},
   "outputs": [
    {
     "name": "stdout",
     "output_type": "stream",
     "text": [
      "Memory usage of dataframe is 648.79 MB\n",
      "Memory usage after optimization is: 172.90 MB\n",
      "Decreased by 73.4%\n"
     ]
    }
   ],
   "source": [
    "# reduce the memory usage\n",
    "X = reduce_mem_usage2(X)"
   ]
  },
  {
   "cell_type": "code",
   "execution_count": 78,
   "id": "6309c057",
   "metadata": {},
   "outputs": [
    {
     "data": {
      "text/plain": [
       "188"
      ]
     },
     "execution_count": 78,
     "metadata": {},
     "output_type": "execute_result"
    }
   ],
   "source": [
    "gc.collect()"
   ]
  },
  {
   "cell_type": "markdown",
   "id": "edafaec2",
   "metadata": {},
   "source": [
    "### Resampling the Data"
   ]
  },
  {
   "cell_type": "code",
   "execution_count": 92,
   "id": "68065ed2",
   "metadata": {},
   "outputs": [],
   "source": [
    "X_train, X_test, y_train, y_test = train_test_split(X, y, test_size = 0.25, random_state = 0)"
   ]
  },
  {
   "cell_type": "code",
   "execution_count": 93,
   "id": "23b60d5c",
   "metadata": {},
   "outputs": [],
   "source": [
    "from imblearn.under_sampling import RandomUnderSampler\n",
    "\n",
    "ran=RandomUnderSampler() ##intialize to return indices of dropped rows\n",
    "X_rs, y_rs = ran.fit_resample(X_train, y_train)"
   ]
  },
  {
   "cell_type": "code",
   "execution_count": 94,
   "id": "18290177",
   "metadata": {},
   "outputs": [],
   "source": [
    "# from imblearn.over_sampling import RandomOverSampler\n",
    "\n",
    "# ran=RandomOverSampler()\n",
    "# X_train_ran,y_train_ran= ran.fit_resample(X_train,y_train)"
   ]
  },
  {
   "cell_type": "markdown",
   "id": "2db3d80b",
   "metadata": {},
   "source": [
    "### Modeling"
   ]
  },
  {
   "cell_type": "markdown",
   "id": "f5db5d87",
   "metadata": {},
   "source": [
    "XGBOOST"
   ]
  },
  {
   "cell_type": "code",
   "execution_count": 104,
   "id": "c15a6caa",
   "metadata": {},
   "outputs": [
    {
     "name": "stdout",
     "output_type": "stream",
     "text": [
      "[15:21:39] WARNING: ..\\src\\learner.cc:1061: Starting in XGBoost 1.3.0, the default evaluation metric used with the objective 'binary:logistic' was changed from 'error' to 'logloss'. Explicitly set eval_metric if you'd like to restore the old behavior.\n",
      "\n",
      " Best hyperparameters:\n",
      "{'subsample': 1.0, 'min_child_weight': 0.5, 'max_depth': 18, 'gamma': 1, 'colsample_bytree': 0.7}\n",
      "\n",
      " Best estimator:\n",
      "XGBClassifier(base_score=0.5, booster='gbtree', colsample_bylevel=1,\n",
      "              colsample_bynode=1, colsample_bytree=0.7, gamma=1, gpu_id=-1,\n",
      "              importance_type='gain', interaction_constraints='',\n",
      "              learning_rate=0.02, max_delta_step=0, max_depth=18,\n",
      "              min_child_weight=0.5, missing=nan, monotone_constraints='()',\n",
      "              n_estimators=200, n_jobs=8, num_parallel_tree=1, random_state=0,\n",
      "              reg_alpha=0, reg_lambda=1, scale_pos_weight=1, subsample=1.0,\n",
      "              tree_method='exact', validate_parameters=1, verbosity=None)\n"
     ]
    }
   ],
   "source": [
    "# Parameter grid for XGBoost\n",
    "params = {\n",
    "        'min_child_weight': [0.5, 0.75, 1],\n",
    "        'gamma': [0.25, 0.5, 1],\n",
    "        'subsample': [0.6, 0.8, 1.0],\n",
    "        'colsample_bytree': [0.7, 0.8, 0.9],\n",
    "        'max_depth': [14, 16, 18]\n",
    "        }\n",
    "# fit model no training data\n",
    "\n",
    "xgb_clf = xgb.XGBClassifier(\n",
    "    learning_rate=0.02, \n",
    "    n_estimators=200, \n",
    "    objective='binary:logistic',\n",
    "    eval_metric='auc'\n",
    ")\n",
    "\n",
    "param_comb = 5\n",
    "\n",
    "random_search = RandomizedSearchCV(xgb_clf, param_distributions=params, \n",
    "                                   n_iter=param_comb, scoring='roc_auc', \n",
    "                                   n_jobs=4, cv=3)\n",
    "\n",
    "random_search.fit(X_rs, y_rs, verbose=100)\n",
    "\n",
    "print('\\n Best hyperparameters:')\n",
    "print(random_search.best_params_)\n",
    "print('\\n Best estimator:')\n",
    "print(random_search.best_estimator_)"
   ]
  },
  {
   "cell_type": "code",
   "execution_count": 106,
   "id": "a81c7d7b",
   "metadata": {},
   "outputs": [
    {
     "name": "stdout",
     "output_type": "stream",
     "text": [
      "[0]\tvalidation_0-auc:0.86911\n",
      "[100]\tvalidation_0-auc:0.93234\n",
      "[200]\tvalidation_0-auc:0.94165\n",
      "[300]\tvalidation_0-auc:0.94577\n",
      "[400]\tvalidation_0-auc:0.94788\n",
      "[500]\tvalidation_0-auc:0.94899\n",
      "[600]\tvalidation_0-auc:0.94992\n",
      "[700]\tvalidation_0-auc:0.95055\n",
      "[800]\tvalidation_0-auc:0.95102\n",
      "[900]\tvalidation_0-auc:0.95136\n",
      "[999]\tvalidation_0-auc:0.95154\n"
     ]
    },
    {
     "data": {
      "text/plain": [
       "XGBClassifier(base_score=0.5, booster='gbtree', colsample_bylevel=1,\n",
       "              colsample_bynode=1, colsample_bytree=0.7, eval_metric='auc',\n",
       "              gamma=1, gpu_id=-1, importance_type='gain',\n",
       "              interaction_constraints='', learning_rate=0.02, max_delta_step=0,\n",
       "              max_depth=18, min_child_weight=0.5, missing=nan,\n",
       "              monotone_constraints='()', n_estimators=1000, n_jobs=8,\n",
       "              num_parallel_tree=1, random_state=0, reg_alpha=0, reg_lambda=1,\n",
       "              scale_pos_weight=1, subsample=1.0, tree_method='exact',\n",
       "              validate_parameters=1, verbosity=None)"
      ]
     },
     "execution_count": 106,
     "metadata": {},
     "output_type": "execute_result"
    }
   ],
   "source": [
    "# xgb_clf = xgb.XGBClassifier(\n",
    "#     learning_rate=0.015,\n",
    "#     n_estimators=2000,\n",
    "#     max_depth = 16,\n",
    "#     min_child_weight=1,\n",
    "#     subsample=0.8,\n",
    "#     objective='reg:logistic',\n",
    "#     eval_metric='auc',\n",
    "#     gamma=0.66,\n",
    "#     reg_alpha=0.4\n",
    "# )\n",
    "xgb_clf = xgb.XGBClassifier(\n",
    "    learning_rate=0.02, \n",
    "    n_estimators=1000, \n",
    "    objective='binary:logistic',\n",
    "    eval_metric='auc',\n",
    "    subsample=1.0, \n",
    "    min_child_weight=0.5, \n",
    "    max_depth=18, \n",
    "    gamma=1, \n",
    "    colsample_bytree=0.7\n",
    ")\n",
    "\n",
    "xgb_clf.fit(X_rs, y_rs, \n",
    "            eval_set=[(X_test, y_test)],\n",
    "            verbose=100, early_stopping_rounds=100)"
   ]
  },
  {
   "cell_type": "code",
   "execution_count": 107,
   "id": "6e687820",
   "metadata": {
    "scrolled": false
   },
   "outputs": [
    {
     "data": {
      "image/png": "[encoded data removed]",
      "text/plain": [
       "<Figure size 432x288 with 2 Axes>"
      ]
     },
     "metadata": {
      "needs_background": "light"
     },
     "output_type": "display_data"
    },
    {
     "name": "stdout",
     "output_type": "stream",
     "text": [
      "              precision    recall  f1-score   support\n",
      "\n",
      "           0       0.99      0.90      0.95    142574\n",
      "           1       0.24      0.87      0.38      5061\n",
      "\n",
      "    accuracy                           0.90    147635\n",
      "   macro avg       0.62      0.89      0.66    147635\n",
      "weighted avg       0.97      0.90      0.93    147635\n",
      "\n"
     ]
    }
   ],
   "source": [
    "y_pred = xgb_clf.predict(X_test)\n",
    "cm = confusion_matrix(y_test, y_pred)\n",
    "disp = ConfusionMatrixDisplay(confusion_matrix=cm, display_labels=xgb_clf.classes_)\n",
    "disp.plot()\n",
    "plt.show()\n",
    "target_names = y.unique().tolist()\n",
    "for i in range(len(target_names)):\n",
    "    target_names[i] = str(target_names[i])\n",
    "print(classification_report(y_test, y_pred, target_names=target_names))"
   ]
  },
  {
   "cell_type": "code",
   "execution_count": 111,
   "id": "59540ccc",
   "metadata": {},
   "outputs": [
    {
     "name": "stdout",
     "output_type": "stream",
     "text": [
      "[0.         0.86978858 1.        ]\n",
      "[0.         0.09738802 1.        ]\n",
      "[2 1 0]\n",
      "0.8333333333333333\n",
      "Threshold value is: 1\n"
     ]
    },
    {
     "data": {
      "image/png": "[encoded data removed]",
      "text/plain": [
       "<Figure size 432x288 with 1 Axes>"
      ]
     },
     "metadata": {
      "needs_background": "light"
     },
     "output_type": "display_data"
    }
   ],
   "source": [
    "def plot_roc_curve(fpr, tpr):\n",
    "    plt.plot(fpr, tpr, color='orange', label='ROC')\n",
    "    plt.plot([0, 1], [0, 1], color='darkblue', linestyle='--')\n",
    "    plt.xlabel('False Positive Rate')\n",
    "    plt.ylabel('True Positive Rate')\n",
    "    plt.title('Receiver Operating Characteristic (ROC) Curve')\n",
    "    plt.legend()\n",
    "    plt.show()\n",
    "\n",
    "y_true = np.array([0,0, 1, 1,1])\n",
    "y_scores = np.array([0.0,0.09, .05, .75,1])\n",
    "\n",
    "fpr, tpr, thresholds = roc_curve(y_test, y_pred)\n",
    "print(tpr)\n",
    "print(fpr)\n",
    "print(thresholds)\n",
    "print(roc_auc_score(y_true, y_scores))\n",
    "optimal_idx = np.argmax(tpr - fpr)\n",
    "optimal_threshold = thresholds[optimal_idx]\n",
    "print(\"Threshold value is:\", optimal_threshold)\n",
    "plot_roc_curve(fpr, tpr)"
   ]
  },
  {
   "cell_type": "code",
   "execution_count": 86,
   "id": "17465bed",
   "metadata": {},
   "outputs": [
    {
     "data": {
      "image/png": "[encoded data removed]",
      "text/plain": [
       "<Figure size 432x288 with 2 Axes>"
      ]
     },
     "metadata": {
      "needs_background": "light"
     },
     "output_type": "display_data"
    }
   ],
   "source": [
    "plot_confusion_matrix(cm, title='Fraud_detection')"
   ]
  },
  {
   "cell_type": "code",
   "execution_count": 36,
   "id": "8fdb5d91",
   "metadata": {},
   "outputs": [
    {
     "data": {
      "image/png": "[encoded data removed]",
      "text/plain": [
       "<Figure size 432x288 with 1 Axes>"
      ]
     },
     "metadata": {
      "needs_background": "light"
     },
     "output_type": "display_data"
    }
   ],
   "source": [
    "buildROC(y_test, y_pred)"
   ]
  },
  {
   "cell_type": "code",
   "execution_count": 112,
   "id": "61b5a4f5",
   "metadata": {},
   "outputs": [
    {
     "data": {
      "image/png": "[encoded data removed]",
      "text/plain": [
       "<Figure size 1440x720 with 1 Axes>"
      ]
     },
     "metadata": {
      "needs_background": "light"
     },
     "output_type": "display_data"
    }
   ],
   "source": [
    "plot_feature_importance(clf=xgb_clf, training_set=X_train)"
   ]
  },
  {
   "cell_type": "markdown",
   "id": "da49e5e5",
   "metadata": {},
   "source": [
    "CAT BOOST"
   ]
  },
  {
   "cell_type": "code",
   "execution_count": 38,
   "id": "abbb4370",
   "metadata": {
    "scrolled": false
   },
   "outputs": [
    {
     "name": "stdout",
     "output_type": "stream",
     "text": [
      "0:\tlearn: 0.6415431\ttest: 0.6416203\ttest1: 0.6415686\tbest: 0.6415686 (0)\ttotal: 2.18s\tremaining: 36m 15s\n",
      "10:\tlearn: 0.3237733\ttest: 0.3237839\ttest1: 0.3233041\tbest: 0.3233041 (10)\ttotal: 22.6s\tremaining: 33m 48s\n",
      "20:\tlearn: 0.2007690\ttest: 0.2008487\ttest1: 0.2002652\tbest: 0.2002652 (20)\ttotal: 45.3s\tremaining: 35m 11s\n",
      "30:\tlearn: 0.1492203\ttest: 0.1493110\ttest1: 0.1488524\tbest: 0.1488524 (30)\ttotal: 1m 8s\tremaining: 35m 45s\n",
      "40:\tlearn: 0.1248859\ttest: 0.1249651\ttest1: 0.1247454\tbest: 0.1247454 (40)\ttotal: 1m 29s\tremaining: 34m 59s\n",
      "50:\tlearn: 0.1127655\ttest: 0.1128328\ttest1: 0.1129488\tbest: 0.1129488 (50)\ttotal: 1m 51s\tremaining: 34m 42s\n",
      "60:\tlearn: 0.1053964\ttest: 0.1054544\ttest1: 0.1059819\tbest: 0.1059819 (60)\ttotal: 2m 12s\tremaining: 34m 5s\n",
      "70:\tlearn: 0.1003383\ttest: 0.1003892\ttest1: 0.1013876\tbest: 0.1013876 (70)\ttotal: 2m 33s\tremaining: 33m 31s\n",
      "80:\tlearn: 0.0966284\ttest: 0.0966746\ttest1: 0.0981072\tbest: 0.0981072 (80)\ttotal: 2m 54s\tremaining: 33m 5s\n",
      "90:\tlearn: 0.0938920\ttest: 0.0939348\ttest1: 0.0958489\tbest: 0.0958489 (90)\ttotal: 3m 16s\tremaining: 32m 46s\n",
      "100:\tlearn: 0.0917900\ttest: 0.0918305\ttest1: 0.0940955\tbest: 0.0940955 (100)\ttotal: 3m 40s\tremaining: 32m 46s\n",
      "110:\tlearn: 0.0898231\ttest: 0.0898617\ttest1: 0.0925190\tbest: 0.0925190 (110)\ttotal: 4m 5s\tremaining: 32m 44s\n",
      "120:\tlearn: 0.0883364\ttest: 0.0883738\ttest1: 0.0914112\tbest: 0.0914112 (120)\ttotal: 4m 28s\tremaining: 32m 29s\n",
      "130:\tlearn: 0.0866505\ttest: 0.0866867\ttest1: 0.0901819\tbest: 0.0901819 (130)\ttotal: 4m 49s\tremaining: 32m\n",
      "140:\tlearn: 0.0852812\ttest: 0.0853166\ttest1: 0.0891807\tbest: 0.0891807 (140)\ttotal: 5m 11s\tremaining: 31m 35s\n",
      "150:\tlearn: 0.0839339\ttest: 0.0839686\ttest1: 0.0882334\tbest: 0.0882334 (150)\ttotal: 5m 32s\tremaining: 31m 11s\n",
      "160:\tlearn: 0.0823682\ttest: 0.0824020\ttest1: 0.0871445\tbest: 0.0871445 (160)\ttotal: 5m 54s\tremaining: 30m 48s\n",
      "170:\tlearn: 0.0813378\ttest: 0.0813712\ttest1: 0.0863600\tbest: 0.0863600 (170)\ttotal: 6m 15s\tremaining: 30m 21s\n",
      "180:\tlearn: 0.0802344\ttest: 0.0802674\ttest1: 0.0855723\tbest: 0.0855723 (180)\ttotal: 6m 36s\tremaining: 29m 53s\n",
      "190:\tlearn: 0.0791998\ttest: 0.0792325\ttest1: 0.0848092\tbest: 0.0848092 (190)\ttotal: 6m 56s\tremaining: 29m 24s\n",
      "200:\tlearn: 0.0783092\ttest: 0.0783416\ttest1: 0.0842060\tbest: 0.0842060 (200)\ttotal: 7m 17s\tremaining: 29m\n",
      "210:\tlearn: 0.0775156\ttest: 0.0775477\ttest1: 0.0836440\tbest: 0.0836440 (210)\ttotal: 7m 38s\tremaining: 28m 33s\n",
      "220:\tlearn: 0.0763186\ttest: 0.0763502\ttest1: 0.0827620\tbest: 0.0827620 (220)\ttotal: 7m 58s\tremaining: 28m 6s\n",
      "230:\tlearn: 0.0756205\ttest: 0.0756520\ttest1: 0.0822759\tbest: 0.0822759 (230)\ttotal: 8m 18s\tremaining: 27m 39s\n",
      "240:\tlearn: 0.0747568\ttest: 0.0747881\ttest1: 0.0817451\tbest: 0.0817451 (240)\ttotal: 8m 39s\tremaining: 27m 15s\n",
      "250:\tlearn: 0.0737730\ttest: 0.0738040\ttest1: 0.0810602\tbest: 0.0810602 (250)\ttotal: 9m\tremaining: 26m 53s\n",
      "260:\tlearn: 0.0727872\ttest: 0.0728179\ttest1: 0.0803809\tbest: 0.0803809 (260)\ttotal: 9m 21s\tremaining: 26m 29s\n",
      "270:\tlearn: 0.0719863\ttest: 0.0720167\ttest1: 0.0798216\tbest: 0.0798216 (270)\ttotal: 9m 42s\tremaining: 26m 7s\n",
      "280:\tlearn: 0.0712210\ttest: 0.0712513\ttest1: 0.0793049\tbest: 0.0793049 (280)\ttotal: 10m 3s\tremaining: 25m 44s\n",
      "290:\tlearn: 0.0702184\ttest: 0.0702484\ttest1: 0.0785834\tbest: 0.0785834 (290)\ttotal: 10m 24s\tremaining: 25m 21s\n",
      "300:\tlearn: 0.0695935\ttest: 0.0696233\ttest1: 0.0781848\tbest: 0.0781848 (300)\ttotal: 10m 45s\tremaining: 24m 59s\n",
      "310:\tlearn: 0.0688664\ttest: 0.0688961\ttest1: 0.0777288\tbest: 0.0777288 (310)\ttotal: 11m 6s\tremaining: 24m 35s\n",
      "320:\tlearn: 0.0682111\ttest: 0.0682406\ttest1: 0.0773304\tbest: 0.0773304 (320)\ttotal: 11m 26s\tremaining: 24m 12s\n",
      "330:\tlearn: 0.0673586\ttest: 0.0673878\ttest1: 0.0767788\tbest: 0.0767788 (330)\ttotal: 11m 47s\tremaining: 23m 50s\n",
      "340:\tlearn: 0.0667900\ttest: 0.0668191\ttest1: 0.0764510\tbest: 0.0764510 (340)\ttotal: 12m 8s\tremaining: 23m 27s\n",
      "350:\tlearn: 0.0661056\ttest: 0.0661345\ttest1: 0.0759727\tbest: 0.0759727 (350)\ttotal: 12m 29s\tremaining: 23m 6s\n",
      "360:\tlearn: 0.0654847\ttest: 0.0655135\ttest1: 0.0755629\tbest: 0.0755629 (360)\ttotal: 12m 51s\tremaining: 22m 44s\n",
      "370:\tlearn: 0.0646987\ttest: 0.0647273\ttest1: 0.0750536\tbest: 0.0750536 (370)\ttotal: 13m 12s\tremaining: 22m 23s\n",
      "380:\tlearn: 0.0642166\ttest: 0.0642451\ttest1: 0.0747510\tbest: 0.0747510 (380)\ttotal: 13m 32s\tremaining: 21m 59s\n",
      "390:\tlearn: 0.0637797\ttest: 0.0638080\ttest1: 0.0745048\tbest: 0.0745048 (390)\ttotal: 13m 52s\tremaining: 21m 35s\n",
      "400:\tlearn: 0.0632559\ttest: 0.0632842\ttest1: 0.0741929\tbest: 0.0741929 (400)\ttotal: 14m 11s\tremaining: 21m 12s\n",
      "410:\tlearn: 0.0625896\ttest: 0.0626177\ttest1: 0.0737377\tbest: 0.0737377 (410)\ttotal: 14m 31s\tremaining: 20m 49s\n",
      "420:\tlearn: 0.0621380\ttest: 0.0621660\ttest1: 0.0734541\tbest: 0.0734541 (420)\ttotal: 14m 51s\tremaining: 20m 26s\n",
      "430:\tlearn: 0.0614482\ttest: 0.0614759\ttest1: 0.0729925\tbest: 0.0729925 (430)\ttotal: 15m 11s\tremaining: 20m 3s\n",
      "440:\tlearn: 0.0609369\ttest: 0.0609645\ttest1: 0.0726475\tbest: 0.0726475 (440)\ttotal: 15m 32s\tremaining: 19m 41s\n",
      "450:\tlearn: 0.0603241\ttest: 0.0603516\ttest1: 0.0722763\tbest: 0.0722763 (450)\ttotal: 15m 52s\tremaining: 19m 19s\n",
      "460:\tlearn: 0.0597832\ttest: 0.0598105\ttest1: 0.0719313\tbest: 0.0719313 (460)\ttotal: 16m 12s\tremaining: 18m 56s\n",
      "470:\tlearn: 0.0593989\ttest: 0.0594261\ttest1: 0.0716861\tbest: 0.0716861 (470)\ttotal: 16m 32s\tremaining: 18m 34s\n",
      "480:\tlearn: 0.0590101\ttest: 0.0590373\ttest1: 0.0714169\tbest: 0.0714169 (480)\ttotal: 16m 52s\tremaining: 18m 12s\n",
      "490:\tlearn: 0.0585791\ttest: 0.0586062\ttest1: 0.0711399\tbest: 0.0711399 (490)\ttotal: 17m 14s\tremaining: 17m 52s\n",
      "500:\tlearn: 0.0581025\ttest: 0.0581294\ttest1: 0.0708525\tbest: 0.0708525 (500)\ttotal: 17m 35s\tremaining: 17m 31s\n",
      "510:\tlearn: 0.0575794\ttest: 0.0576062\ttest1: 0.0705241\tbest: 0.0705241 (510)\ttotal: 17m 56s\tremaining: 17m 10s\n",
      "520:\tlearn: 0.0570464\ttest: 0.0570730\ttest1: 0.0702148\tbest: 0.0702148 (520)\ttotal: 18m 18s\tremaining: 16m 49s\n",
      "530:\tlearn: 0.0565948\ttest: 0.0566214\ttest1: 0.0699163\tbest: 0.0699163 (530)\ttotal: 18m 41s\tremaining: 16m 30s\n",
      "540:\tlearn: 0.0560384\ttest: 0.0560647\ttest1: 0.0695131\tbest: 0.0695131 (540)\ttotal: 19m 3s\tremaining: 16m 9s\n",
      "550:\tlearn: 0.0555403\ttest: 0.0555665\ttest1: 0.0692532\tbest: 0.0692532 (550)\ttotal: 19m 24s\tremaining: 15m 48s\n",
      "560:\tlearn: 0.0551021\ttest: 0.0551283\ttest1: 0.0689815\tbest: 0.0689815 (560)\ttotal: 19m 45s\tremaining: 15m 27s\n",
      "570:\tlearn: 0.0547842\ttest: 0.0548104\ttest1: 0.0687882\tbest: 0.0687882 (570)\ttotal: 20m 6s\tremaining: 15m 6s\n",
      "580:\tlearn: 0.0542921\ttest: 0.0543181\ttest1: 0.0685291\tbest: 0.0685291 (580)\ttotal: 20m 28s\tremaining: 14m 45s\n",
      "590:\tlearn: 0.0538432\ttest: 0.0538691\ttest1: 0.0682707\tbest: 0.0682707 (590)\ttotal: 20m 49s\tremaining: 14m 24s\n",
      "600:\tlearn: 0.0534513\ttest: 0.0534771\ttest1: 0.0680335\tbest: 0.0680335 (600)\ttotal: 21m 10s\tremaining: 14m 3s\n",
      "610:\tlearn: 0.0528403\ttest: 0.0528658\ttest1: 0.0676658\tbest: 0.0676658 (610)\ttotal: 21m 30s\tremaining: 13m 41s\n",
      "620:\tlearn: 0.0525927\ttest: 0.0526183\ttest1: 0.0675123\tbest: 0.0675123 (620)\ttotal: 21m 51s\tremaining: 13m 20s\n",
      "630:\tlearn: 0.0522489\ttest: 0.0522744\ttest1: 0.0672845\tbest: 0.0672845 (630)\ttotal: 22m 13s\tremaining: 12m 59s\n",
      "640:\tlearn: 0.0519042\ttest: 0.0519296\ttest1: 0.0670863\tbest: 0.0670863 (640)\ttotal: 22m 35s\tremaining: 12m 39s\n",
      "650:\tlearn: 0.0514454\ttest: 0.0514706\ttest1: 0.0668266\tbest: 0.0668266 (650)\ttotal: 22m 57s\tremaining: 12m 18s\n",
      "660:\tlearn: 0.0510628\ttest: 0.0510879\ttest1: 0.0666004\tbest: 0.0666004 (660)\ttotal: 23m 18s\tremaining: 11m 57s\n",
      "670:\tlearn: 0.0505646\ttest: 0.0505896\ttest1: 0.0663106\tbest: 0.0663106 (670)\ttotal: 23m 40s\tremaining: 11m 36s\n",
      "680:\tlearn: 0.0501264\ttest: 0.0501512\ttest1: 0.0660793\tbest: 0.0660793 (680)\ttotal: 24m 1s\tremaining: 11m 15s\n",
      "690:\tlearn: 0.0497922\ttest: 0.0498170\ttest1: 0.0658730\tbest: 0.0658730 (690)\ttotal: 24m 23s\tremaining: 10m 54s\n",
      "700:\tlearn: 0.0494000\ttest: 0.0494246\ttest1: 0.0656420\tbest: 0.0656420 (700)\ttotal: 24m 45s\tremaining: 10m 33s\n",
      "710:\tlearn: 0.0489420\ttest: 0.0489665\ttest1: 0.0653624\tbest: 0.0653624 (710)\ttotal: 25m 7s\tremaining: 10m 12s\n",
      "720:\tlearn: 0.0485971\ttest: 0.0486215\ttest1: 0.0651862\tbest: 0.0651862 (720)\ttotal: 25m 28s\tremaining: 9m 51s\n",
      "730:\tlearn: 0.0482270\ttest: 0.0482514\ttest1: 0.0650041\tbest: 0.0650041 (730)\ttotal: 25m 53s\tremaining: 9m 31s\n",
      "740:\tlearn: 0.0478942\ttest: 0.0479185\ttest1: 0.0648455\tbest: 0.0648455 (740)\ttotal: 26m 19s\tremaining: 9m 12s\n"
     ]
    },
    {
     "name": "stdout",
     "output_type": "stream",
     "text": [
      "750:\tlearn: 0.0473415\ttest: 0.0473656\ttest1: 0.0645665\tbest: 0.0645665 (750)\ttotal: 26m 42s\tremaining: 8m 51s\n",
      "760:\tlearn: 0.0469942\ttest: 0.0470182\ttest1: 0.0643679\tbest: 0.0643679 (760)\ttotal: 27m 3s\tremaining: 8m 30s\n",
      "770:\tlearn: 0.0465629\ttest: 0.0465868\ttest1: 0.0641510\tbest: 0.0641510 (770)\ttotal: 27m 25s\tremaining: 8m 8s\n",
      "780:\tlearn: 0.0461325\ttest: 0.0461562\ttest1: 0.0638879\tbest: 0.0638879 (780)\ttotal: 27m 46s\tremaining: 7m 47s\n",
      "790:\tlearn: 0.0458614\ttest: 0.0458851\ttest1: 0.0637523\tbest: 0.0637523 (790)\ttotal: 28m 7s\tremaining: 7m 25s\n",
      "800:\tlearn: 0.0456343\ttest: 0.0456580\ttest1: 0.0636280\tbest: 0.0636280 (800)\ttotal: 28m 29s\tremaining: 7m 4s\n",
      "810:\tlearn: 0.0453789\ttest: 0.0454025\ttest1: 0.0635287\tbest: 0.0635287 (810)\ttotal: 28m 50s\tremaining: 6m 43s\n",
      "820:\tlearn: 0.0450322\ttest: 0.0450557\ttest1: 0.0633406\tbest: 0.0633406 (820)\ttotal: 29m 12s\tremaining: 6m 22s\n",
      "830:\tlearn: 0.0447665\ttest: 0.0447898\ttest1: 0.0632133\tbest: 0.0632133 (830)\ttotal: 29m 34s\tremaining: 6m\n",
      "840:\tlearn: 0.0444653\ttest: 0.0444886\ttest1: 0.0630418\tbest: 0.0630418 (840)\ttotal: 29m 54s\tremaining: 5m 39s\n",
      "850:\tlearn: 0.0442527\ttest: 0.0442760\ttest1: 0.0629407\tbest: 0.0629407 (850)\ttotal: 30m 16s\tremaining: 5m 18s\n",
      "860:\tlearn: 0.0439146\ttest: 0.0439378\ttest1: 0.0627675\tbest: 0.0627675 (860)\ttotal: 30m 37s\tremaining: 4m 56s\n",
      "870:\tlearn: 0.0435558\ttest: 0.0435789\ttest1: 0.0625678\tbest: 0.0625678 (870)\ttotal: 30m 58s\tremaining: 4m 35s\n",
      "880:\tlearn: 0.0433292\ttest: 0.0433522\ttest1: 0.0624195\tbest: 0.0624195 (880)\ttotal: 31m 18s\tremaining: 4m 13s\n",
      "890:\tlearn: 0.0429761\ttest: 0.0429989\ttest1: 0.0622544\tbest: 0.0622544 (890)\ttotal: 31m 40s\tremaining: 3m 52s\n",
      "900:\tlearn: 0.0427554\ttest: 0.0427782\ttest1: 0.0621568\tbest: 0.0621568 (900)\ttotal: 32m\tremaining: 3m 31s\n",
      "910:\tlearn: 0.0424565\ttest: 0.0424792\ttest1: 0.0620072\tbest: 0.0620072 (910)\ttotal: 32m 21s\tremaining: 3m 9s\n",
      "920:\tlearn: 0.0421397\ttest: 0.0421623\ttest1: 0.0618258\tbest: 0.0618258 (920)\ttotal: 32m 43s\tremaining: 2m 48s\n",
      "930:\tlearn: 0.0419638\ttest: 0.0419864\ttest1: 0.0617344\tbest: 0.0617344 (930)\ttotal: 33m 4s\tremaining: 2m 27s\n",
      "940:\tlearn: 0.0416480\ttest: 0.0416705\ttest1: 0.0615528\tbest: 0.0615528 (940)\ttotal: 33m 25s\tremaining: 2m 5s\n",
      "950:\tlearn: 0.0414483\ttest: 0.0414707\ttest1: 0.0614185\tbest: 0.0614185 (950)\ttotal: 33m 46s\tremaining: 1m 44s\n",
      "960:\tlearn: 0.0412042\ttest: 0.0412265\ttest1: 0.0613024\tbest: 0.0613024 (960)\ttotal: 34m 8s\tremaining: 1m 23s\n",
      "970:\tlearn: 0.0409814\ttest: 0.0410037\ttest1: 0.0611998\tbest: 0.0611998 (970)\ttotal: 34m 30s\tremaining: 1m 1s\n",
      "980:\tlearn: 0.0407635\ttest: 0.0407858\ttest1: 0.0610848\tbest: 0.0610848 (980)\ttotal: 34m 51s\tremaining: 40.5s\n",
      "990:\tlearn: 0.0405447\ttest: 0.0405669\ttest1: 0.0609702\tbest: 0.0609702 (990)\ttotal: 35m 12s\tremaining: 19.2s\n",
      "999:\tlearn: 0.0403447\ttest: 0.0403669\ttest1: 0.0608747\tbest: 0.0608747 (999)\ttotal: 35m 30s\tremaining: 0us\n",
      "\n",
      "bestTest = 0.06087467223\n",
      "bestIteration = 999\n",
      "\n"
     ]
    },
    {
     "data": {
      "text/plain": [
       "<catboost.core.CatBoostClassifier at 0x1ce6f01e850>"
      ]
     },
     "execution_count": 38,
     "metadata": {},
     "output_type": "execute_result"
    }
   ],
   "source": [
    "cb_params={\n",
    "    'learning_rate':0.03,\n",
    "    'iterations': 1000,\n",
    "    'depth':13,\n",
    "    'verbose':10\n",
    "}\n",
    "\n",
    "cb_clf = CatBoostClassifier(**cb_params)\n",
    "cb_clf.fit(\n",
    "    X_train, \n",
    "    y_train,\n",
    "    eval_set=[(X_train, y_train), (X_test, y_test)], \n",
    ")"
   ]
  },
  {
   "cell_type": "code",
   "execution_count": 39,
   "id": "fee3d172",
   "metadata": {},
   "outputs": [
    {
     "data": {
      "image/png": "[encoded data removed]",
      "text/plain": [
       "<Figure size 432x288 with 2 Axes>"
      ]
     },
     "metadata": {
      "needs_background": "light"
     },
     "output_type": "display_data"
    },
    {
     "name": "stdout",
     "output_type": "stream",
     "text": [
      "              precision    recall  f1-score   support\n",
      "\n",
      "           0       0.98      1.00      0.99    142574\n",
      "           1       0.95      0.51      0.66      5061\n",
      "\n",
      "    accuracy                           0.98    147635\n",
      "   macro avg       0.97      0.75      0.83    147635\n",
      "weighted avg       0.98      0.98      0.98    147635\n",
      "\n"
     ]
    }
   ],
   "source": [
    "y_pred = cb_clf.predict(X_test)\n",
    "cm = confusion_matrix(y_test, y_pred)\n",
    "disp = ConfusionMatrixDisplay(confusion_matrix=cm, display_labels=cb_clf.classes_)\n",
    "disp.plot()\n",
    "plt.show()\n",
    "target_names = y.unique().tolist()\n",
    "for i in range(len(target_names)):\n",
    "    target_names[i] = str(target_names[i])\n",
    "print(classification_report(y_test, y_pred, target_names=target_names))"
   ]
  },
  {
   "cell_type": "code",
   "execution_count": 40,
   "id": "a4b60237",
   "metadata": {},
   "outputs": [
    {
     "data": {
      "image/png": "[encoded data removed]",
      "text/plain": [
       "<Figure size 432x288 with 1 Axes>"
      ]
     },
     "metadata": {
      "needs_background": "light"
     },
     "output_type": "display_data"
    }
   ],
   "source": [
    "buildROC(y_test, y_pred)"
   ]
  },
  {
   "cell_type": "markdown",
   "id": "d5faa9e9",
   "metadata": {},
   "source": [
    "Terrible Recall on this model. A Dummy variable that gueses no fraud every time would do just as well or even better"
   ]
  },
  {
   "cell_type": "markdown",
   "id": "8d38d616",
   "metadata": {},
   "source": [
    "LGBM"
   ]
  },
  {
   "cell_type": "code",
   "execution_count": 57,
   "id": "effac02f",
   "metadata": {},
   "outputs": [
    {
     "name": "stdout",
     "output_type": "stream",
     "text": [
      "[LightGBM] [Warning] boosting is set=gbdt, boosting_type=gbdt will be ignored. Current value: boosting=gbdt\n",
      "[LightGBM] [Warning] feature_fraction is set=0.5, colsample_bytree=1.0 will be ignored. Current value: feature_fraction=0.5\n",
      "[LightGBM] [Warning] bagging_fraction is set=0.5, subsample=1.0 will be ignored. Current value: bagging_fraction=0.5\n",
      "[LightGBM] [Warning] bagging_freq is set=20, subsample_freq=0 will be ignored. Current value: bagging_freq=20\n",
      "[LightGBM] [Warning] boosting is set=gbdt, boosting_type=gbdt will be ignored. Current value: boosting=gbdt\n",
      "[LightGBM] [Warning] feature_fraction is set=0.5, colsample_bytree=1.0 will be ignored. Current value: feature_fraction=0.5\n",
      "[LightGBM] [Warning] bagging_fraction is set=0.5, subsample=1.0 will be ignored. Current value: bagging_fraction=0.5\n",
      "[LightGBM] [Warning] bagging_freq is set=20, subsample_freq=0 will be ignored. Current value: bagging_freq=20\n",
      "[LightGBM] [Warning] Auto-choosing row-wise multi-threading, the overhead of testing was 0.110509 seconds.\n",
      "You can set `force_row_wise=true` to remove the overhead.\n",
      "And if memory is not enough, you can set `force_col_wise=true`.\n",
      "[LightGBM] [Warning] boosting is set=gbdt, boosting_type=gbdt will be ignored. Current value: boosting=gbdt\n",
      "[LightGBM] [Warning] feature_fraction is set=0.5, colsample_bytree=1.0 will be ignored. Current value: feature_fraction=0.5\n",
      "[LightGBM] [Warning] bagging_fraction is set=0.5, subsample=1.0 will be ignored. Current value: bagging_fraction=0.5\n",
      "[LightGBM] [Warning] bagging_freq is set=20, subsample_freq=0 will be ignored. Current value: bagging_freq=20\n",
      "[LightGBM] [Warning] No further splits with positive gain, best gain: -inf\n",
      "[LightGBM] [Warning] No further splits with positive gain, best gain: -inf\n",
      "[LightGBM] [Warning] No further splits with positive gain, best gain: -inf\n",
      "[LightGBM] [Warning] No further splits with positive gain, best gain: -inf\n",
      "[LightGBM] [Warning] No further splits with positive gain, best gain: -inf\n",
      "[LightGBM] [Warning] No further splits with positive gain, best gain: -inf\n",
      "[LightGBM] [Warning] No further splits with positive gain, best gain: -inf\n",
      "[LightGBM] [Warning] No further splits with positive gain, best gain: -inf\n",
      "[LightGBM] [Warning] No further splits with positive gain, best gain: -inf\n",
      "[LightGBM] [Warning] No further splits with positive gain, best gain: -inf\n",
      "[LightGBM] [Warning] No further splits with positive gain, best gain: -inf\n",
      "[LightGBM] [Warning] No further splits with positive gain, best gain: -inf\n",
      "[LightGBM] [Warning] No further splits with positive gain, best gain: -inf\n",
      "[LightGBM] [Warning] No further splits with positive gain, best gain: -inf\n",
      "[LightGBM] [Warning] No further splits with positive gain, best gain: -inf\n",
      "[LightGBM] [Warning] No further splits with positive gain, best gain: -inf\n",
      "[LightGBM] [Warning] No further splits with positive gain, best gain: -inf\n",
      "[LightGBM] [Warning] No further splits with positive gain, best gain: -inf\n",
      "[LightGBM] [Warning] No further splits with positive gain, best gain: -inf\n",
      "[LightGBM] [Warning] No further splits with positive gain, best gain: -inf\n",
      "[LightGBM] [Warning] No further splits with positive gain, best gain: -inf\n",
      "[LightGBM] [Warning] No further splits with positive gain, best gain: -inf\n",
      "[LightGBM] [Warning] No further splits with positive gain, best gain: -inf\n",
      "[LightGBM] [Warning] No further splits with positive gain, best gain: -inf\n",
      "[LightGBM] [Warning] No further splits with positive gain, best gain: -inf\n",
      "[LightGBM] [Warning] No further splits with positive gain, best gain: -inf\n",
      "[LightGBM] [Warning] No further splits with positive gain, best gain: -inf\n",
      "[LightGBM] [Warning] No further splits with positive gain, best gain: -inf\n",
      "[LightGBM] [Warning] No further splits with positive gain, best gain: -inf\n",
      "[LightGBM] [Warning] No further splits with positive gain, best gain: -inf\n",
      "[LightGBM] [Warning] No further splits with positive gain, best gain: -inf\n",
      "[LightGBM] [Warning] No further splits with positive gain, best gain: -inf\n",
      "[LightGBM] [Warning] No further splits with positive gain, best gain: -inf\n",
      "[LightGBM] [Warning] No further splits with positive gain, best gain: -inf\n",
      "[LightGBM] [Warning] No further splits with positive gain, best gain: -inf\n",
      "[LightGBM] [Warning] No further splits with positive gain, best gain: -inf\n",
      "[LightGBM] [Warning] No further splits with positive gain, best gain: -inf\n",
      "[LightGBM] [Warning] No further splits with positive gain, best gain: -inf\n",
      "[LightGBM] [Warning] No further splits with positive gain, best gain: -inf\n",
      "[LightGBM] [Warning] No further splits with positive gain, best gain: -inf\n",
      "[LightGBM] [Warning] No further splits with positive gain, best gain: -inf\n",
      "[LightGBM] [Warning] No further splits with positive gain, best gain: -inf\n"
     ]
    },
    {
     "data": {
      "text/plain": [
       "LGBMClassifier(bagging_fraction=0.5, bagging_freq=20, boosting='gbdt',\n",
       "               feature_fraction=0.5, learning_rate=0.03, max_depth=13,\n",
       "               metric='auc', n_estimators=5000, num_leaves=256,\n",
       "               objective='binary', verbose=0)"
      ]
     },
     "execution_count": 57,
     "metadata": {},
     "output_type": "execute_result"
    }
   ],
   "source": [
    "parameters = {\n",
    "    'num_leaves': 256,\n",
    "    'objective': 'binary',\n",
    "    'metric': 'auc',\n",
    "#     'is_unbalance': 'true',\n",
    "    'boosting': 'gbdt',\n",
    "    'max_depth': 13,\n",
    "    'feature_fraction': 0.5,\n",
    "    'bagging_fraction': 0.5,\n",
    "    'bagging_freq': 20,\n",
    "    'learning_rate': 0.03,\n",
    "    'verbose': 0,\n",
    "    'n_estimators':5000\n",
    "}\n",
    "\n",
    "train_data = lgb.Dataset(X_train, label=y_train)\n",
    "test_data = lgb.Dataset(X_test, label=y_test)\n",
    "\n",
    "model = lgb.LGBMClassifier(**parameters, n_jobs = -1)\n",
    "model.fit(\n",
    "    X_train, \n",
    "    y_train,\n",
    "    eval_set=[(X_train, y_train), (X_test, y_test)], \n",
    "    eval_metric='auc',\n",
    "    verbose=False\n",
    ")"
   ]
  },
  {
   "cell_type": "code",
   "execution_count": 58,
   "id": "5b4910f7",
   "metadata": {},
   "outputs": [
    {
     "data": {
      "image/png": "[encoded data removed]",
      "text/plain": [
       "<Figure size 432x288 with 2 Axes>"
      ]
     },
     "metadata": {
      "needs_background": "light"
     },
     "output_type": "display_data"
    },
    {
     "name": "stdout",
     "output_type": "stream",
     "text": [
      "              precision    recall  f1-score   support\n",
      "\n",
      "           0       0.99      1.00      0.99    142574\n",
      "           1       0.97      0.66      0.79      5061\n",
      "\n",
      "    accuracy                           0.99    147635\n",
      "   macro avg       0.98      0.83      0.89    147635\n",
      "weighted avg       0.99      0.99      0.99    147635\n",
      "\n"
     ]
    }
   ],
   "source": [
    "y_pred = model.predict(X_test)\n",
    "cm = confusion_matrix(y_test, y_pred)\n",
    "disp = ConfusionMatrixDisplay(confusion_matrix=cm, display_labels=model.classes_)\n",
    "disp.plot()\n",
    "plt.show()\n",
    "target_names = y.unique().tolist()\n",
    "for i in range(len(target_names)):\n",
    "    target_names[i] = str(target_names[i])\n",
    "print(classification_report(y_test, y_pred, target_names=target_names))"
   ]
  },
  {
   "cell_type": "code",
   "execution_count": 59,
   "id": "428b562a",
   "metadata": {},
   "outputs": [
    {
     "data": {
      "image/png": "[encoded data removed]",
      "text/plain": [
       "<Figure size 432x288 with 1 Axes>"
      ]
     },
     "metadata": {
      "needs_background": "light"
     },
     "output_type": "display_data"
    }
   ],
   "source": [
    "buildROC(y_test, y_pred)"
   ]
  },
  {
   "cell_type": "code",
   "execution_count": null,
   "id": "812bb684",
   "metadata": {},
   "outputs": [],
   "source": []
  }
 ],
 "metadata": {
  "kernelspec": {
   "display_name": "Python 3",
   "language": "python",
   "name": "python3"
  },
  "language_info": {
   "codemirror_mode": {
    "name": "ipython",
    "version": 3
   },
   "file_extension": ".py",
   "mimetype": "text/x-python",
   "name": "python",
   "nbconvert_exporter": "python",
   "pygments_lexer": "ipython3",
   "version": "3.8.8"
  }
 },
 "nbformat": 4,
 "nbformat_minor": 5
}
