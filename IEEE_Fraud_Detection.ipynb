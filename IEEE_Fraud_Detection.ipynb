{
 "cells": [
  {
   "cell_type": "markdown",
   "id": "f5999f59",
   "metadata": {},
   "source": [
    " # IEEE-CIS Fraud Detection"
   ]
  },
  {
   "cell_type": "markdown",
   "id": "64d7d185",
   "metadata": {},
   "source": [
    "Vesta Corporation provided the dataset for this model. Vesta Corporation is the forerunner in guaranteed e-commerce payment solutions. Founded in 1995, Vesta pioneered the process of fully guaranteed card-not-present (CNP) payment transactions for the telecommunications industry. Since then, Vesta has firmly expanded data science and machine learning capabilities across the globe and solidified its position as the leader in guaranteed ecommerce payments. Today, Vesta guarantees more than $18B in transactions annually. "
   ]
  },
  {
   "cell_type": "markdown",
   "id": "d0a545d8",
   "metadata": {},
   "source": [
    "Problem: Binary classification with a heavy dataset imbalance"
   ]
  },
  {
   "cell_type": "markdown",
   "id": "01fda9c6",
   "metadata": {},
   "source": [
    "## Objective: Detect fraud in Transactions"
   ]
  },
  {
   "cell_type": "markdown",
   "id": "1e3a2feb",
   "metadata": {},
   "source": [
    "### Data:  \n",
    "  \n",
    "``isFraud`` is the binary that denotes whether a transaction is fraud or not and this is the dependent variable to be modeled for  \n",
    "\n",
    "Data is broken into two files ***identity*** and ***transaction***, these can be join by the ``TransactioID``  \n",
    "  \n",
    "***Identity Categorical Features***\n",
    "* DeviceType\n",
    "* DeviceInfo\n",
    "* id_12-id_38\n",
    "  \n",
    "***Transaction Categorical Features***\n",
    "* Product CD\n",
    "* emaildomain\n",
    "* card1-card6\n",
    "* addr1, addr2\n",
    "* P_emaildomain\n",
    "* R_emaildomain\n",
    "* M1-M9\n",
    "\n",
    "The ``TransactionDT`` feature is a timedelta from a given reference datetime (not an actual timestamp).\n"
   ]
  },
  {
   "cell_type": "markdown",
   "id": "6a119cb7",
   "metadata": {},
   "source": [
    "## Import Required Modules"
   ]
  },
  {
   "cell_type": "code",
   "execution_count": 1,
   "id": "ca5f1692",
   "metadata": {},
   "outputs": [],
   "source": [
    "import numpy as np\n",
    "import pandas as pd\n",
    "import gc\n",
    "import scipy.stats as stats\n",
    "import matplotlib.pyplot as plt\n",
    "import seaborn as sns\n",
    "import datetime\n",
    "import itertools\n",
    "\n",
    "from sklearn.metrics import roc_curve, roc_auc_score, auc\n",
    "from sklearn.model_selection import train_test_split, GroupKFold\n",
    "from sklearn.preprocessing import LabelEncoder\n",
    "from sklearn.utils import resample\n",
    "from sklearn.model_selection import RandomizedSearchCV\n",
    "import lightgbm as lgb\n",
    "import xgboost as xgb\n",
    "from catboost import CatBoostClassifier, Pool\n",
    "from sklearn.metrics import classification_report\n",
    "from catboost.utils import get_roc_curve\n",
    "from sklearn.metrics import confusion_matrix\n",
    "from sklearn.metrics import ConfusionMatrixDisplay\n",
    "import warnings\n",
    "warnings.filterwarnings('ignore')\n",
    "\n",
    "\n",
    "# special IPython command to prepare the notebook for matplotlib and other libraries\n",
    "%matplotlib inline "
   ]
  },
  {
   "cell_type": "code",
   "execution_count": 2,
   "id": "bdec80f4",
   "metadata": {},
   "outputs": [],
   "source": [
    "# Functions\n",
    "\n",
    "# From kernel https://www.kaggle.com/gemartin/load-data-reduce-memory-usage\n",
    "# WARNING! THIS CAN DAMAGE THE DATA \n",
    "def reduce_mem_usage2(df):\n",
    "    \"\"\" iterate through all the columns of a dataframe and modify the data type\n",
    "        to reduce memory usage.        \n",
    "    \"\"\"\n",
    "    start_mem = df.memory_usage().sum() / 1024**2\n",
    "    print('Memory usage of dataframe is {:.2f} MB'.format(start_mem))\n",
    "    \n",
    "    for col in df.columns:\n",
    "        col_type = df[col].dtype\n",
    "        \n",
    "        if col_type != object:\n",
    "            c_min = df[col].min()\n",
    "            c_max = df[col].max()\n",
    "            if str(col_type)[:3] == 'int':\n",
    "                if c_min > np.iinfo(np.int8).min and c_max < np.iinfo(np.int8).max:\n",
    "                    df[col] = df[col].astype(np.int8)\n",
    "                elif c_min > np.iinfo(np.int16).min and c_max < np.iinfo(np.int16).max:\n",
    "                    df[col] = df[col].astype(np.int16)\n",
    "                elif c_min > np.iinfo(np.int32).min and c_max < np.iinfo(np.int32).max:\n",
    "                    df[col] = df[col].astype(np.int32)\n",
    "                elif c_min > np.iinfo(np.int64).min and c_max < np.iinfo(np.int64).max:\n",
    "                    df[col] = df[col].astype(np.int64)  \n",
    "            else:\n",
    "                if c_min > np.finfo(np.float16).min and c_max < np.finfo(np.float16).max:\n",
    "                    df[col] = df[col].astype(np.float16)\n",
    "                elif c_min > np.finfo(np.float32).min and c_max < np.finfo(np.float32).max:\n",
    "                    df[col] = df[col].astype(np.float32)\n",
    "                else:\n",
    "                    df[col] = df[col].astype(np.float64)\n",
    "        else:\n",
    "            df[col] = df[col].astype('category')\n",
    "\n",
    "    end_mem = df.memory_usage().sum() / 1024**2\n",
    "    print('Memory usage after optimization is: {:.2f} MB'.format(end_mem))\n",
    "    print('Decreased by {:.1f}%'.format(100 * (start_mem - end_mem) / start_mem))\n",
    "    \n",
    "    return df\n",
    "\n",
    "def build_roc(target_test,test_preds):\n",
    "    fpr, tpr, threshold = roc_curve(target_test, test_preds)\n",
    "    \n",
    "    # plot the no skill line\n",
    "    plt.plot([0, 1], [0, 1], linestyle='--')\n",
    "    \n",
    "    # plot the ro curve \n",
    "    roc_auc = auc(fpr, tpr)\n",
    "    plt.plot(fpr, tpr, 'b', label = 'AUC = %0.2f' % roc_auc)\n",
    "    plt.title('Receiver Operating Characteristic')\n",
    "    plt.legend(loc = 'lower right')\n",
    "    plt.ylabel('True Positive Rate')\n",
    "    plt.xlabel('False Positive Rate')\n",
    "    plt.show()\n",
    "    \n",
    "def make_classification_report(y_test, y_pred):\n",
    "    cm = confusion_matrix(y_test, y_pred)\n",
    "    disp = ConfusionMatrixDisplay(confusion_matrix=cm, display_labels=[0, 1])\n",
    "    disp.plot()\n",
    "    plt.show()\n",
    "    \n",
    "    target_names = y.unique().tolist()\n",
    "    for i in range(len(target_names)):\n",
    "        target_names[i] = str(target_names[i])\n",
    "    print(classification_report(y_test, y_pred, target_names=target_names))\n",
    "\n",
    "def plot_feature_importance(clf, training_set: pd.DataFrame):\n",
    "    feature_imp = pd.DataFrame(sorted(zip(clf.feature_importances_, training_set.columns)), columns=['Value','Feature'])\n",
    "    plt.figure(figsize=(20, 10))\n",
    "    sns.barplot(x=\"Value\", y=\"Feature\", data=feature_imp.sort_values(by=\"Value\", ascending=False).iloc[:30])\n",
    "    plt.title('XGB Most Important Features')\n",
    "    plt.tight_layout()\n",
    "    plt.show()"
   ]
  },
  {
   "cell_type": "markdown",
   "id": "1c65fef3",
   "metadata": {},
   "source": [
    "## Load the Dataset"
   ]
  },
  {
   "cell_type": "code",
   "execution_count": 3,
   "id": "055a2a0e",
   "metadata": {},
   "outputs": [],
   "source": [
    "FOLDER_PATH = 'data'\n",
    "train_identity = pd.read_csv(f'{FOLDER_PATH}/train_identity.csv')\n",
    "train_transaction = pd.read_csv(f'{FOLDER_PATH}/train_transaction.csv')\n",
    "test_identity = pd.read_csv(f'{FOLDER_PATH}/test_identity.csv')\n",
    "test_transaction = pd.read_csv(f'{FOLDER_PATH}/test_transaction.csv')"
   ]
  },
  {
   "cell_type": "code",
   "execution_count": 4,
   "id": "c5feea83",
   "metadata": {},
   "outputs": [],
   "source": [
    "# merge the testing and training data\n",
    "train = pd.merge(train_transaction, train_identity, on='TransactionID', how='left')\n",
    "test = pd.merge(test_transaction, test_identity, on='TransactionID', how='left')"
   ]
  },
  {
   "cell_type": "code",
   "execution_count": 5,
   "id": "efe7682d",
   "metadata": {},
   "outputs": [
    {
     "name": "stdout",
     "output_type": "stream",
     "text": [
      "Transaction df shape: (590540, 394)\n"
     ]
    },
    {
     "data": {
      "text/html": [
       "<div>\n",
       "<style scoped>\n",
       "    .dataframe tbody tr th:only-of-type {\n",
       "        vertical-align: middle;\n",
       "    }\n",
       "\n",
       "    .dataframe tbody tr th {\n",
       "        vertical-align: top;\n",
       "    }\n",
       "\n",
       "    .dataframe thead th {\n",
       "        text-align: right;\n",
       "    }\n",
       "</style>\n",
       "<table border=\"1\" class=\"dataframe\">\n",
       "  <thead>\n",
       "    <tr style=\"text-align: right;\">\n",
       "      <th></th>\n",
       "      <th>TransactionID</th>\n",
       "      <th>isFraud</th>\n",
       "      <th>TransactionDT</th>\n",
       "      <th>TransactionAmt</th>\n",
       "      <th>ProductCD</th>\n",
       "      <th>card1</th>\n",
       "      <th>card2</th>\n",
       "      <th>card3</th>\n",
       "      <th>card4</th>\n",
       "      <th>card5</th>\n",
       "      <th>...</th>\n",
       "      <th>V330</th>\n",
       "      <th>V331</th>\n",
       "      <th>V332</th>\n",
       "      <th>V333</th>\n",
       "      <th>V334</th>\n",
       "      <th>V335</th>\n",
       "      <th>V336</th>\n",
       "      <th>V337</th>\n",
       "      <th>V338</th>\n",
       "      <th>V339</th>\n",
       "    </tr>\n",
       "  </thead>\n",
       "  <tbody>\n",
       "    <tr>\n",
       "      <th>0</th>\n",
       "      <td>2987000</td>\n",
       "      <td>0</td>\n",
       "      <td>86400</td>\n",
       "      <td>68.5</td>\n",
       "      <td>W</td>\n",
       "      <td>13926</td>\n",
       "      <td>NaN</td>\n",
       "      <td>150.0</td>\n",
       "      <td>discover</td>\n",
       "      <td>142.0</td>\n",
       "      <td>...</td>\n",
       "      <td>NaN</td>\n",
       "      <td>NaN</td>\n",
       "      <td>NaN</td>\n",
       "      <td>NaN</td>\n",
       "      <td>NaN</td>\n",
       "      <td>NaN</td>\n",
       "      <td>NaN</td>\n",
       "      <td>NaN</td>\n",
       "      <td>NaN</td>\n",
       "      <td>NaN</td>\n",
       "    </tr>\n",
       "    <tr>\n",
       "      <th>1</th>\n",
       "      <td>2987001</td>\n",
       "      <td>0</td>\n",
       "      <td>86401</td>\n",
       "      <td>29.0</td>\n",
       "      <td>W</td>\n",
       "      <td>2755</td>\n",
       "      <td>404.0</td>\n",
       "      <td>150.0</td>\n",
       "      <td>mastercard</td>\n",
       "      <td>102.0</td>\n",
       "      <td>...</td>\n",
       "      <td>NaN</td>\n",
       "      <td>NaN</td>\n",
       "      <td>NaN</td>\n",
       "      <td>NaN</td>\n",
       "      <td>NaN</td>\n",
       "      <td>NaN</td>\n",
       "      <td>NaN</td>\n",
       "      <td>NaN</td>\n",
       "      <td>NaN</td>\n",
       "      <td>NaN</td>\n",
       "    </tr>\n",
       "    <tr>\n",
       "      <th>2</th>\n",
       "      <td>2987002</td>\n",
       "      <td>0</td>\n",
       "      <td>86469</td>\n",
       "      <td>59.0</td>\n",
       "      <td>W</td>\n",
       "      <td>4663</td>\n",
       "      <td>490.0</td>\n",
       "      <td>150.0</td>\n",
       "      <td>visa</td>\n",
       "      <td>166.0</td>\n",
       "      <td>...</td>\n",
       "      <td>NaN</td>\n",
       "      <td>NaN</td>\n",
       "      <td>NaN</td>\n",
       "      <td>NaN</td>\n",
       "      <td>NaN</td>\n",
       "      <td>NaN</td>\n",
       "      <td>NaN</td>\n",
       "      <td>NaN</td>\n",
       "      <td>NaN</td>\n",
       "      <td>NaN</td>\n",
       "    </tr>\n",
       "    <tr>\n",
       "      <th>3</th>\n",
       "      <td>2987003</td>\n",
       "      <td>0</td>\n",
       "      <td>86499</td>\n",
       "      <td>50.0</td>\n",
       "      <td>W</td>\n",
       "      <td>18132</td>\n",
       "      <td>567.0</td>\n",
       "      <td>150.0</td>\n",
       "      <td>mastercard</td>\n",
       "      <td>117.0</td>\n",
       "      <td>...</td>\n",
       "      <td>NaN</td>\n",
       "      <td>NaN</td>\n",
       "      <td>NaN</td>\n",
       "      <td>NaN</td>\n",
       "      <td>NaN</td>\n",
       "      <td>NaN</td>\n",
       "      <td>NaN</td>\n",
       "      <td>NaN</td>\n",
       "      <td>NaN</td>\n",
       "      <td>NaN</td>\n",
       "    </tr>\n",
       "    <tr>\n",
       "      <th>4</th>\n",
       "      <td>2987004</td>\n",
       "      <td>0</td>\n",
       "      <td>86506</td>\n",
       "      <td>50.0</td>\n",
       "      <td>H</td>\n",
       "      <td>4497</td>\n",
       "      <td>514.0</td>\n",
       "      <td>150.0</td>\n",
       "      <td>mastercard</td>\n",
       "      <td>102.0</td>\n",
       "      <td>...</td>\n",
       "      <td>0.0</td>\n",
       "      <td>0.0</td>\n",
       "      <td>0.0</td>\n",
       "      <td>0.0</td>\n",
       "      <td>0.0</td>\n",
       "      <td>0.0</td>\n",
       "      <td>0.0</td>\n",
       "      <td>0.0</td>\n",
       "      <td>0.0</td>\n",
       "      <td>0.0</td>\n",
       "    </tr>\n",
       "  </tbody>\n",
       "</table>\n",
       "<p>5 rows × 394 columns</p>\n",
       "</div>"
      ],
      "text/plain": [
       "   TransactionID  isFraud  TransactionDT  TransactionAmt ProductCD  card1  \\\n",
       "0        2987000        0          86400            68.5         W  13926   \n",
       "1        2987001        0          86401            29.0         W   2755   \n",
       "2        2987002        0          86469            59.0         W   4663   \n",
       "3        2987003        0          86499            50.0         W  18132   \n",
       "4        2987004        0          86506            50.0         H   4497   \n",
       "\n",
       "   card2  card3       card4  card5  ... V330  V331  V332  V333  V334 V335  \\\n",
       "0    NaN  150.0    discover  142.0  ...  NaN   NaN   NaN   NaN   NaN  NaN   \n",
       "1  404.0  150.0  mastercard  102.0  ...  NaN   NaN   NaN   NaN   NaN  NaN   \n",
       "2  490.0  150.0        visa  166.0  ...  NaN   NaN   NaN   NaN   NaN  NaN   \n",
       "3  567.0  150.0  mastercard  117.0  ...  NaN   NaN   NaN   NaN   NaN  NaN   \n",
       "4  514.0  150.0  mastercard  102.0  ...  0.0   0.0   0.0   0.0   0.0  0.0   \n",
       "\n",
       "  V336  V337  V338  V339  \n",
       "0  NaN   NaN   NaN   NaN  \n",
       "1  NaN   NaN   NaN   NaN  \n",
       "2  NaN   NaN   NaN   NaN  \n",
       "3  NaN   NaN   NaN   NaN  \n",
       "4  0.0   0.0   0.0   0.0  \n",
       "\n",
       "[5 rows x 394 columns]"
      ]
     },
     "execution_count": 5,
     "metadata": {},
     "output_type": "execute_result"
    }
   ],
   "source": [
    "print(f'Transaction df shape: {train_transaction.shape}')\n",
    "train_transaction.head()"
   ]
  },
  {
   "cell_type": "code",
   "execution_count": 6,
   "id": "4f977de3",
   "metadata": {},
   "outputs": [
    {
     "name": "stdout",
     "output_type": "stream",
     "text": [
      "Identity df shape: (144233, 41)\n"
     ]
    },
    {
     "data": {
      "text/html": [
       "<div>\n",
       "<style scoped>\n",
       "    .dataframe tbody tr th:only-of-type {\n",
       "        vertical-align: middle;\n",
       "    }\n",
       "\n",
       "    .dataframe tbody tr th {\n",
       "        vertical-align: top;\n",
       "    }\n",
       "\n",
       "    .dataframe thead th {\n",
       "        text-align: right;\n",
       "    }\n",
       "</style>\n",
       "<table border=\"1\" class=\"dataframe\">\n",
       "  <thead>\n",
       "    <tr style=\"text-align: right;\">\n",
       "      <th></th>\n",
       "      <th>TransactionID</th>\n",
       "      <th>id_01</th>\n",
       "      <th>id_02</th>\n",
       "      <th>id_03</th>\n",
       "      <th>id_04</th>\n",
       "      <th>id_05</th>\n",
       "      <th>id_06</th>\n",
       "      <th>id_07</th>\n",
       "      <th>id_08</th>\n",
       "      <th>id_09</th>\n",
       "      <th>...</th>\n",
       "      <th>id_31</th>\n",
       "      <th>id_32</th>\n",
       "      <th>id_33</th>\n",
       "      <th>id_34</th>\n",
       "      <th>id_35</th>\n",
       "      <th>id_36</th>\n",
       "      <th>id_37</th>\n",
       "      <th>id_38</th>\n",
       "      <th>DeviceType</th>\n",
       "      <th>DeviceInfo</th>\n",
       "    </tr>\n",
       "  </thead>\n",
       "  <tbody>\n",
       "    <tr>\n",
       "      <th>0</th>\n",
       "      <td>2987004</td>\n",
       "      <td>0.0</td>\n",
       "      <td>70787.0</td>\n",
       "      <td>NaN</td>\n",
       "      <td>NaN</td>\n",
       "      <td>NaN</td>\n",
       "      <td>NaN</td>\n",
       "      <td>NaN</td>\n",
       "      <td>NaN</td>\n",
       "      <td>NaN</td>\n",
       "      <td>...</td>\n",
       "      <td>samsung browser 6.2</td>\n",
       "      <td>32.0</td>\n",
       "      <td>2220x1080</td>\n",
       "      <td>match_status:2</td>\n",
       "      <td>T</td>\n",
       "      <td>F</td>\n",
       "      <td>T</td>\n",
       "      <td>T</td>\n",
       "      <td>mobile</td>\n",
       "      <td>SAMSUNG SM-G892A Build/NRD90M</td>\n",
       "    </tr>\n",
       "    <tr>\n",
       "      <th>1</th>\n",
       "      <td>2987008</td>\n",
       "      <td>-5.0</td>\n",
       "      <td>98945.0</td>\n",
       "      <td>NaN</td>\n",
       "      <td>NaN</td>\n",
       "      <td>0.0</td>\n",
       "      <td>-5.0</td>\n",
       "      <td>NaN</td>\n",
       "      <td>NaN</td>\n",
       "      <td>NaN</td>\n",
       "      <td>...</td>\n",
       "      <td>mobile safari 11.0</td>\n",
       "      <td>32.0</td>\n",
       "      <td>1334x750</td>\n",
       "      <td>match_status:1</td>\n",
       "      <td>T</td>\n",
       "      <td>F</td>\n",
       "      <td>F</td>\n",
       "      <td>T</td>\n",
       "      <td>mobile</td>\n",
       "      <td>iOS Device</td>\n",
       "    </tr>\n",
       "    <tr>\n",
       "      <th>2</th>\n",
       "      <td>2987010</td>\n",
       "      <td>-5.0</td>\n",
       "      <td>191631.0</td>\n",
       "      <td>0.0</td>\n",
       "      <td>0.0</td>\n",
       "      <td>0.0</td>\n",
       "      <td>0.0</td>\n",
       "      <td>NaN</td>\n",
       "      <td>NaN</td>\n",
       "      <td>0.0</td>\n",
       "      <td>...</td>\n",
       "      <td>chrome 62.0</td>\n",
       "      <td>NaN</td>\n",
       "      <td>NaN</td>\n",
       "      <td>NaN</td>\n",
       "      <td>F</td>\n",
       "      <td>F</td>\n",
       "      <td>T</td>\n",
       "      <td>T</td>\n",
       "      <td>desktop</td>\n",
       "      <td>Windows</td>\n",
       "    </tr>\n",
       "    <tr>\n",
       "      <th>3</th>\n",
       "      <td>2987011</td>\n",
       "      <td>-5.0</td>\n",
       "      <td>221832.0</td>\n",
       "      <td>NaN</td>\n",
       "      <td>NaN</td>\n",
       "      <td>0.0</td>\n",
       "      <td>-6.0</td>\n",
       "      <td>NaN</td>\n",
       "      <td>NaN</td>\n",
       "      <td>NaN</td>\n",
       "      <td>...</td>\n",
       "      <td>chrome 62.0</td>\n",
       "      <td>NaN</td>\n",
       "      <td>NaN</td>\n",
       "      <td>NaN</td>\n",
       "      <td>F</td>\n",
       "      <td>F</td>\n",
       "      <td>T</td>\n",
       "      <td>T</td>\n",
       "      <td>desktop</td>\n",
       "      <td>NaN</td>\n",
       "    </tr>\n",
       "    <tr>\n",
       "      <th>4</th>\n",
       "      <td>2987016</td>\n",
       "      <td>0.0</td>\n",
       "      <td>7460.0</td>\n",
       "      <td>0.0</td>\n",
       "      <td>0.0</td>\n",
       "      <td>1.0</td>\n",
       "      <td>0.0</td>\n",
       "      <td>NaN</td>\n",
       "      <td>NaN</td>\n",
       "      <td>0.0</td>\n",
       "      <td>...</td>\n",
       "      <td>chrome 62.0</td>\n",
       "      <td>24.0</td>\n",
       "      <td>1280x800</td>\n",
       "      <td>match_status:2</td>\n",
       "      <td>T</td>\n",
       "      <td>F</td>\n",
       "      <td>T</td>\n",
       "      <td>T</td>\n",
       "      <td>desktop</td>\n",
       "      <td>MacOS</td>\n",
       "    </tr>\n",
       "  </tbody>\n",
       "</table>\n",
       "<p>5 rows × 41 columns</p>\n",
       "</div>"
      ],
      "text/plain": [
       "   TransactionID  id_01     id_02  id_03  id_04  id_05  id_06  id_07  id_08  \\\n",
       "0        2987004    0.0   70787.0    NaN    NaN    NaN    NaN    NaN    NaN   \n",
       "1        2987008   -5.0   98945.0    NaN    NaN    0.0   -5.0    NaN    NaN   \n",
       "2        2987010   -5.0  191631.0    0.0    0.0    0.0    0.0    NaN    NaN   \n",
       "3        2987011   -5.0  221832.0    NaN    NaN    0.0   -6.0    NaN    NaN   \n",
       "4        2987016    0.0    7460.0    0.0    0.0    1.0    0.0    NaN    NaN   \n",
       "\n",
       "   id_09  ...                id_31  id_32      id_33           id_34  id_35  \\\n",
       "0    NaN  ...  samsung browser 6.2   32.0  2220x1080  match_status:2      T   \n",
       "1    NaN  ...   mobile safari 11.0   32.0   1334x750  match_status:1      T   \n",
       "2    0.0  ...          chrome 62.0    NaN        NaN             NaN      F   \n",
       "3    NaN  ...          chrome 62.0    NaN        NaN             NaN      F   \n",
       "4    0.0  ...          chrome 62.0   24.0   1280x800  match_status:2      T   \n",
       "\n",
       "  id_36 id_37  id_38  DeviceType                     DeviceInfo  \n",
       "0     F     T      T      mobile  SAMSUNG SM-G892A Build/NRD90M  \n",
       "1     F     F      T      mobile                     iOS Device  \n",
       "2     F     T      T     desktop                        Windows  \n",
       "3     F     T      T     desktop                            NaN  \n",
       "4     F     T      T     desktop                          MacOS  \n",
       "\n",
       "[5 rows x 41 columns]"
      ]
     },
     "execution_count": 6,
     "metadata": {},
     "output_type": "execute_result"
    }
   ],
   "source": [
    "print(f'Identity df shape: {train_identity.shape}')\n",
    "train_identity.head()"
   ]
  },
  {
   "cell_type": "code",
   "execution_count": 7,
   "id": "4436a057",
   "metadata": {},
   "outputs": [],
   "source": [
    "del train_identity, train_transaction, test_identity, test_transaction"
   ]
  },
  {
   "cell_type": "markdown",
   "id": "877370f7",
   "metadata": {},
   "source": [
    "## Exploratory Data Analysis"
   ]
  },
  {
   "cell_type": "markdown",
   "id": "afccab6a",
   "metadata": {},
   "source": [
    "Click [here](https://github.com/JoshSpangler96/IEEE-CIS-Fraud-Detection/blob/main/IEEE_Fraud_Detection_EDA.ipynb) to view the EDA I performed for this dataset \\\n",
    "\\\n",
    "Key takeaways from EDA: \n",
    "* Highly imbalanced dataset with 3.5% fraud\n",
    "* Train data and test data are seperated by time. Need time based split for validation set\n",
    "* Ff the 415 features in the V, C, D, M, and ID categories there are 136 uncorrelated useful features\n",
    "* Highest precentage of Fraud happens early morning"
   ]
  },
  {
   "cell_type": "code",
   "execution_count": 8,
   "id": "9e633626",
   "metadata": {
    "scrolled": true
   },
   "outputs": [],
   "source": [
    "test.columns = test.columns.str.replace('[-]', '_')"
   ]
  },
  {
   "cell_type": "code",
   "execution_count": 9,
   "id": "8104146f",
   "metadata": {
    "scrolled": false
   },
   "outputs": [
    {
     "name": "stdout",
     "output_type": "stream",
     "text": [
      "Datasets have 434 features before reduction\n",
      "Datasets have 155 features after reduction\n"
     ]
    }
   ],
   "source": [
    "# Keep only the useful columns from the EDA\n",
    "features_to_use = [\n",
    "    'TransactionID', 'TransactionDT', 'TransactionAmt', \n",
    "    'ProductCD', 'card1', 'card2', 'card3', 'card4', 'card5', 'card6', 'DeviceType', \n",
    "    'DeviceInfo', 'addr1', 'addr2', 'dist1', 'dist2', 'P_emaildomain', 'R_emaildomain', \n",
    "    'V147', 'V142', 'V1', 'V174', 'V109', 'V201', 'V238', 'V271', 'V78', \n",
    "    'V160', 'V65', 'V339', 'V27', 'V138', 'V320', 'V6', 'V223', 'V114', \n",
    "    'V118', 'V173', 'V80', 'V107', 'V258', 'V44', 'V198', 'V252', 'V220', \n",
    "    'V309', 'V209', 'V67', 'V124', 'V260', 'V155', 'V176', 'V55', 'V36', \n",
    "    'V325', 'V127', 'V175', 'V82', 'V20', 'V329', 'V111', 'V139', 'V210', \n",
    "    'V30', 'V86', 'V3', 'V37', 'V13', 'V207', 'V286', 'V47', 'V162', 'V8', \n",
    "    'V62', 'V234', 'V56', 'V240', 'V23', 'V4', 'V115', 'V166', 'V121', 'V76', \n",
    "    'V259', 'V312', 'V120', 'V169', 'V305', 'V291', 'V185', 'V26', 'V241', \n",
    "    'V250', 'V108', 'V261', 'V54', 'D5', 'D14', 'D1', 'D9', 'D13', 'D8', \n",
    "    'D15', 'D10', 'C1', 'C5', 'C3', 'M5', 'M7', 'M4', 'M2', 'M9', 'M6', \n",
    "    'M1', 'M3', 'M8', 'id_08', 'id_09', 'id_28', 'id_07', 'id_37', 'id_01', \n",
    "    'id_27', 'id_25', 'id_21', 'id_12', 'id_38', 'id_35', 'id_30', 'id_04', \n",
    "    'id_05', 'id_29', 'id_36', 'id_34', 'id_11', 'id_26', 'id_13', 'id_24', \n",
    "    'id_23', 'id_20', 'id_17', 'id_14', 'id_31', 'id_32', 'id_03', 'id_10', \n",
    "    'id_18', 'id_02', 'id_06', 'id_16', 'id_15', 'id_19', 'id_33', 'id_22']\n",
    "\n",
    "#reduce both test and train\n",
    "print(f'Datasets have {len(train.columns)} features before reduction')\n",
    "train_features = features_to_use + ['isFraud']\n",
    "train = train[train_features]\n",
    "test = test[features_to_use]\n",
    "print(f'Datasets have {len(train.columns)} features after reduction')"
   ]
  },
  {
   "cell_type": "markdown",
   "id": "44d05c2e",
   "metadata": {},
   "source": [
    "## Feature Engineering"
   ]
  },
  {
   "cell_type": "code",
   "execution_count": 10,
   "id": "ba48fd6a",
   "metadata": {},
   "outputs": [
    {
     "name": "stdout",
     "output_type": "stream",
     "text": [
      "Datasets have 177 features after feature engineering\n"
     ]
    }
   ],
   "source": [
    "START_DATE = '2017-12-01'\n",
    "startdate = datetime.datetime.strptime(START_DATE, \"%Y-%m-%d\")\n",
    "\n",
    "datasets = [train, test]\n",
    "for data in datasets:\n",
    "    data['cents'] = (data['TransactionAmt'] - np.floor(data['TransactionAmt'])).astype('float32')\n",
    "    data['log_TransactionAmt'] = np.log(data['TransactionAmt'])\n",
    "    data[['P_email_1', 'P_email_2', 'P_email_3']] = data['P_emaildomain'].str.split('.', expand=True)\n",
    "    data.drop('P_emaildomain', axis=1, inplace=True)\n",
    "    data[['R_email_1', 'R_email_2', 'R_email_3']] = data['R_emaildomain'].str.split('.', expand=True)\n",
    "    data.drop('R_emaildomain', axis=1, inplace=True)\n",
    "    data['Date'] = data['TransactionDT'].apply(lambda x: (startdate + datetime.timedelta(seconds=x)))\n",
    "    data['Weekdays'] = data['Date'].dt.dayofweek\n",
    "    data['Hours'] = data['Date'].dt.hour\n",
    "    data['Days'] = data['Date'].dt.day\n",
    "    data['Month'] = (data['Date'].dt.year-2017)*12 + data['Date'].dt.month\n",
    "    \n",
    "    # Aggregate features together\n",
    "    data['uid'] = data['card1'].astype(str)+'_'+data['addr1'].astype(str)\n",
    "    data['uid2'] = data['uid'].astype(str)+'_'+np.floor(data.Days-data.D1).astype(str)\n",
    "    for feature in ['TransactionAmt', 'D9', 'D10', 'C1', 'C5']:\n",
    "        for agg in ['mean', 'std']:\n",
    "            temp = data.groupby(['uid2'])[feature].agg([agg]).reset_index().rename(columns={f'{agg}': f'{feature}_{agg}_uid'})\n",
    "            temp.index = list(temp['uid2'])\n",
    "            temp = temp[f'{feature}_{agg}_uid'].to_dict()\n",
    "            data[f'{feature}_{agg}_uid'] = data['uid2'].map(temp).astype('float32')\n",
    "    data.drop('uid2', axis=1, inplace=True)       \n",
    "    \n",
    "    \n",
    "print(f'Datasets have {len(train.columns)} features after feature engineering')"
   ]
  },
  {
   "cell_type": "markdown",
   "id": "b095a188",
   "metadata": {},
   "source": [
    "## Prepare for Modeling"
   ]
  },
  {
   "cell_type": "markdown",
   "id": "e19b7af4",
   "metadata": {},
   "source": [
    "***Categorical Feature Encoding***"
   ]
  },
  {
   "cell_type": "code",
   "execution_count": 11,
   "id": "6e8bf39e",
   "metadata": {},
   "outputs": [
    {
     "name": "stdout",
     "output_type": "stream",
     "text": [
      "['ProductCD', 'card4', 'card6', 'DeviceType', 'DeviceInfo', 'M5', 'M7', 'M4', 'M2', 'M9', 'M6', 'M1', 'M3', 'M8', 'id_28', 'id_37', 'id_27', 'id_12', 'id_38', 'id_35', 'id_30', 'id_29', 'id_36', 'id_34', 'id_23', 'id_31', 'id_16', 'id_15', 'id_33', 'cents', 'P_email_1', 'P_email_2', 'P_email_3', 'R_email_1', 'R_email_2', 'R_email_3', 'uid', 'TransactionAmt_mean_uid', 'TransactionAmt_std_uid', 'D9_mean_uid', 'D9_std_uid', 'D10_mean_uid', 'D10_std_uid', 'C1_mean_uid', 'C1_std_uid', 'C5_mean_uid', 'C5_std_uid']\n"
     ]
    }
   ],
   "source": [
    "# get a list of all categorical features in the datasets\n",
    "d_type = pd.DataFrame(train.dtypes)\n",
    "d_type.rename({0: 'dtype'}, axis=1,  inplace=True)\n",
    "d_type.reset_index(inplace=True)\n",
    "d_type['dtype'] = d_type['dtype'].astype('string')\n",
    "cat_col = d_type.loc[(d_type['dtype'] != 'int64') &\\\n",
    "                     (d_type['dtype'] != 'float64') &\\\n",
    "                     (d_type['dtype'] != 'datetime64[ns]')]['index'].to_list()\n",
    "\n",
    "print(cat_col)"
   ]
  },
  {
   "cell_type": "code",
   "execution_count": 12,
   "id": "501b45b1",
   "metadata": {},
   "outputs": [],
   "source": [
    "for i in range(len(cat_col)):\n",
    "    if cat_col[i] in train.columns:\n",
    "        le = LabelEncoder()\n",
    "        le.fit(list(train[cat_col[i]].astype(str).values) + list(test[cat_col[i]].astype(str).values))\n",
    "        train[cat_col[i]] = le.transform(list(train[cat_col[i]].astype(str).values))\n",
    "        test[cat_col[i]] = le.transform(list(test[cat_col[i]].astype(str).values))   "
   ]
  },
  {
   "cell_type": "markdown",
   "id": "74821e79",
   "metadata": {},
   "source": [
    "***Clean Missing Values***"
   ]
  },
  {
   "cell_type": "code",
   "execution_count": 13,
   "id": "49f3d511",
   "metadata": {},
   "outputs": [],
   "source": [
    "train.replace([np.inf, -np.inf], np.nan, inplace=True)\n",
    "test.replace([np.inf, -np.inf], np.nan, inplace=True)"
   ]
  },
  {
   "cell_type": "code",
   "execution_count": 14,
   "id": "6bedde32",
   "metadata": {},
   "outputs": [],
   "source": [
    "train.fillna(train.median(), inplace=True)\n",
    "test.fillna(test.median(), inplace=True)"
   ]
  },
  {
   "cell_type": "markdown",
   "id": "4da0192a",
   "metadata": {},
   "source": [
    "***Reduce Memory Usage***"
   ]
  },
  {
   "cell_type": "code",
   "execution_count": 15,
   "id": "a4851625",
   "metadata": {},
   "outputs": [],
   "source": [
    "# set up X train and y train\n",
    "X = train.sort_values('TransactionDT').drop(['isFraud', 'TransactionDT', 'Date'], axis=1)\n",
    "y = train.sort_values('TransactionDT')['isFraud']\n",
    "test = test.sort_values('TransactionDT').drop(['TransactionDT', 'Date'], axis=1)"
   ]
  },
  {
   "cell_type": "code",
   "execution_count": 16,
   "id": "7be399fc",
   "metadata": {},
   "outputs": [
    {
     "name": "stdout",
     "output_type": "stream",
     "text": [
      "Memory usage of dataframe is 682.58 MB\n",
      "Memory usage after optimization is: 192.61 MB\n",
      "Decreased by 71.8%\n"
     ]
    }
   ],
   "source": [
    "# reduce the memory usage\n",
    "X = reduce_mem_usage2(X)"
   ]
  },
  {
   "cell_type": "code",
   "execution_count": 17,
   "id": "6309c057",
   "metadata": {},
   "outputs": [
    {
     "data": {
      "text/plain": [
       "29"
      ]
     },
     "execution_count": 17,
     "metadata": {},
     "output_type": "execute_result"
    }
   ],
   "source": [
    "del train\n",
    "gc.collect()"
   ]
  },
  {
   "cell_type": "markdown",
   "id": "2db3d80b",
   "metadata": {},
   "source": [
    "### Modeling"
   ]
  },
  {
   "cell_type": "code",
   "execution_count": 18,
   "id": "c0920e75",
   "metadata": {},
   "outputs": [],
   "source": [
    "ind_train = len(X)*0.75\n",
    "X_train = X.loc[:ind_train]\n",
    "y_train = y.loc[:ind_train]\n",
    "X_test = X.loc[ind_train:]\n",
    "y_test = y.loc[ind_train:]"
   ]
  },
  {
   "cell_type": "code",
   "execution_count": 19,
   "id": "3a6c7261",
   "metadata": {},
   "outputs": [],
   "source": [
    "from imblearn.over_sampling import SMOTE\n",
    "\n",
    "smote = SMOTE()\n",
    "X_sm, y_sm = smote.fit_resample(X_train, y_train)"
   ]
  },
  {
   "cell_type": "code",
   "execution_count": 20,
   "id": "c4b46ecc",
   "metadata": {},
   "outputs": [
    {
     "name": "stdout",
     "output_type": "stream",
     "text": [
      "[LightGBM] [Warning] feature_fraction is set=0.5, colsample_bytree=0.7 will be ignored. Current value: feature_fraction=0.5\n",
      "[LightGBM] [Warning] bagging_fraction is set=0.75, subsample=1.0 will be ignored. Current value: bagging_fraction=0.75\n",
      "[200]\tvalid_0's auc: 0.948434\tvalid_1's auc: 0.880475\n",
      "[400]\tvalid_0's auc: 0.98909\tvalid_1's auc: 0.904562\n",
      "[600]\tvalid_0's auc: 0.99904\tvalid_1's auc: 0.910757\n",
      "\n",
      " Best hyperparameters:\n",
      "{'reg_lambda': 0.4, 'reg_alpha': 0.6, 'num_leaves': 512, 'min_child_weight': 0.001, 'learning_rate': 0.02, 'feature_fraction': 0.5, 'colsample_bytree': 0.7, 'bagging_fraction': 0.75}\n",
      "\n",
      " Best estimator:\n",
      "LGBMClassifier(bagging_fraction=0.75, colsample_bytree=0.7,\n",
      "               feature_fraction=0.5, learning_rate=0.02, metric='auc',\n",
      "               n_estimators=600, num_leaves=512, objective='binary',\n",
      "               reg_alpha=0.6, reg_lambda=0.4)\n"
     ]
    }
   ],
   "source": [
    "# Parameter grid for lgb\n",
    "params = {\n",
    "    'learning_rate': [0.01, 0.02],\n",
    "    'min_child_weight': [0.001, 0.01],\n",
    "    'colsample_bytree': [0.5, 0.7],\n",
    "    'num_leaves': [256, 512],\n",
    "    'feature_fraction': [0.5, 0.75],\n",
    "    'bagging_fraction': [0.5, 0.75],\n",
    "    'reg_alpha': [0.4, 0.6],\n",
    "    'reg_lambda': [0.4, 0.6],\n",
    "}\n",
    "\n",
    "lgb_clf = lgb.LGBMClassifier(\n",
    "    learning_rate=0.02, \n",
    "    n_estimators=600, \n",
    "    objective='binary',\n",
    "    metric= 'auc',\n",
    "    n_jobs = -1\n",
    ")\n",
    "\n",
    "param_comb = 5\n",
    "\n",
    "clf = RandomizedSearchCV(\n",
    "    lgb_clf, \n",
    "    param_distributions=params,         \n",
    "    n_iter=param_comb, scoring='roc_auc',             \n",
    "    n_jobs=4, \n",
    "    cv=3\n",
    ")\n",
    "\n",
    "clf.fit(X_sm, y_sm, verbose=200, eval_set=[(X_test, y_test)])\n",
    "\n",
    "print('\\n Best hyperparameters:')\n",
    "print(clf.best_params_)\n",
    "print('\\n Best estimator:')\n",
    "print(clf.best_estimator_)"
   ]
  },
  {
   "cell_type": "code",
   "execution_count": 26,
   "id": "c2c9db5e",
   "metadata": {},
   "outputs": [],
   "source": [
    "# Obtained through RandomSearchCV\n",
    "hyper_parameters = {\n",
    "    'num_leaves': 512, \n",
    "    'min_child_weight': 0.001,\n",
    "    'feature_fraction': 0.5, \n",
    "    'bagging_fraction': 0.75,\n",
    "    'min_data_in_leaf': 106,\n",
    "    'objective': 'binary',\n",
    "    'learning_rate': 0.02, \n",
    "    'boosting_type': 'gbdt',\n",
    "    'metric': 'auc',\n",
    "    \"verbosity\": -1,\n",
    "    'reg_lambda': 0.4, \n",
    "    'reg_alpha': 0.6, \n",
    "}"
   ]
  },
  {
   "cell_type": "code",
   "execution_count": 27,
   "id": "709a25c3",
   "metadata": {
    "scrolled": false
   },
   "outputs": [
    {
     "name": "stdout",
     "output_type": "stream",
     "text": [
      "Training on fold 1 (Withholding Month: 12)\n",
      "Train size: 456201 Test Size: 134339\n",
      "[LightGBM] [Warning] feature_fraction is set=0.5, colsample_bytree=0.7 will be ignored. Current value: feature_fraction=0.5\n",
      "Training until validation scores don't improve for 500 rounds\n",
      "[200]\ttraining's auc: 0.9904\tvalid_1's auc: 0.873621\n",
      "[400]\ttraining's auc: 0.997893\tvalid_1's auc: 0.885155\n",
      "[600]\ttraining's auc: 0.999266\tvalid_1's auc: 0.888394\n",
      "[800]\ttraining's auc: 0.999656\tvalid_1's auc: 0.890623\n",
      "[1000]\ttraining's auc: 0.999812\tvalid_1's auc: 0.891583\n",
      "[1200]\ttraining's auc: 0.999883\tvalid_1's auc: 0.892178\n",
      "[1400]\ttraining's auc: 0.99992\tvalid_1's auc: 0.89218\n",
      "[1600]\ttraining's auc: 0.999942\tvalid_1's auc: 0.892242\n",
      "[1800]\ttraining's auc: 0.999955\tvalid_1's auc: 0.89223\n",
      "[2000]\ttraining's auc: 0.999964\tvalid_1's auc: 0.892118\n",
      "Early stopping, best iteration is:\n",
      "[1644]\ttraining's auc: 0.999945\tvalid_1's auc: 0.892427\n",
      "Training Set Classification Report\n"
     ]
    },
    {
     "data": {
      "image/png": "[encoded data removed]",
      "text/plain": [
       "<Figure size 432x288 with 2 Axes>"
      ]
     },
     "metadata": {
      "needs_background": "light"
     },
     "output_type": "display_data"
    },
    {
     "name": "stdout",
     "output_type": "stream",
     "text": [
      "              precision    recall  f1-score   support\n",
      "\n",
      "           0       1.00      1.00      1.00    438939\n",
      "           1       0.97      0.99      0.98     17262\n",
      "\n",
      "    accuracy                           1.00    456201\n",
      "   macro avg       0.98      0.99      0.99    456201\n",
      "weighted avg       1.00      1.00      1.00    456201\n",
      "\n",
      "Validation Set Classification Report\n"
     ]
    },
    {
     "data": {
      "image/png": "[encoded data removed]",
      "text/plain": [
       "<Figure size 432x288 with 2 Axes>"
      ]
     },
     "metadata": {
      "needs_background": "light"
     },
     "output_type": "display_data"
    },
    {
     "name": "stdout",
     "output_type": "stream",
     "text": [
      "              precision    recall  f1-score   support\n",
      "\n",
      "           0       0.98      0.99      0.99    130938\n",
      "           1       0.45      0.40      0.42      3401\n",
      "\n",
      "    accuracy                           0.97    134339\n",
      "   macro avg       0.72      0.69      0.70    134339\n",
      "weighted avg       0.97      0.97      0.97    134339\n",
      "\n"
     ]
    },
    {
     "data": {
      "image/png": "[encoded data removed]",
      "text/plain": [
       "<Figure size 432x288 with 1 Axes>"
      ]
     },
     "metadata": {
      "needs_background": "light"
     },
     "output_type": "display_data"
    },
    {
     "name": "stdout",
     "output_type": "stream",
     "text": [
      "Training on fold 2 (Withholding Month: 15)\n",
      "Train size: 488572 Test Size: 101968\n",
      "[LightGBM] [Warning] feature_fraction is set=0.5, colsample_bytree=0.7 will be ignored. Current value: feature_fraction=0.5\n",
      "Training until validation scores don't improve for 500 rounds\n",
      "[200]\ttraining's auc: 0.990735\tvalid_1's auc: 0.914923\n",
      "[400]\ttraining's auc: 0.998122\tvalid_1's auc: 0.918719\n",
      "[600]\ttraining's auc: 0.999341\tvalid_1's auc: 0.919132\n",
      "[800]\ttraining's auc: 0.999707\tvalid_1's auc: 0.918743\n",
      "Early stopping, best iteration is:\n",
      "[469]\ttraining's auc: 0.998758\tvalid_1's auc: 0.919349\n",
      "Training Set Classification Report\n"
     ]
    },
    {
     "data": {
      "image/png": "[encoded data removed]",
      "text/plain": [
       "<Figure size 432x288 with 2 Axes>"
      ]
     },
     "metadata": {
      "needs_background": "light"
     },
     "output_type": "display_data"
    },
    {
     "name": "stdout",
     "output_type": "stream",
     "text": [
      "              precision    recall  f1-score   support\n",
      "\n",
      "           0       1.00      0.99      1.00    471939\n",
      "           1       0.85      0.96      0.90     16633\n",
      "\n",
      "    accuracy                           0.99    488572\n",
      "   macro avg       0.92      0.98      0.95    488572\n",
      "weighted avg       0.99      0.99      0.99    488572\n",
      "\n",
      "Validation Set Classification Report\n"
     ]
    },
    {
     "data": {
      "image/png": "[encoded data removed]",
      "text/plain": [
       "<Figure size 432x288 with 2 Axes>"
      ]
     },
     "metadata": {
      "needs_background": "light"
     },
     "output_type": "display_data"
    },
    {
     "name": "stdout",
     "output_type": "stream",
     "text": [
      "              precision    recall  f1-score   support\n",
      "\n",
      "           0       0.98      0.99      0.98     97938\n",
      "           1       0.68      0.49      0.57      4030\n",
      "\n",
      "    accuracy                           0.97    101968\n",
      "   macro avg       0.83      0.74      0.78    101968\n",
      "weighted avg       0.97      0.97      0.97    101968\n",
      "\n"
     ]
    },
    {
     "data": {
      "image/png": "[encoded data removed]",
      "text/plain": [
       "<Figure size 432x288 with 1 Axes>"
      ]
     },
     "metadata": {
      "needs_background": "light"
     },
     "output_type": "display_data"
    },
    {
     "name": "stdout",
     "output_type": "stream",
     "text": [
      "Training on fold 3 (Withholding Month: 13)\n",
      "Train size: 498030 Test Size: 92510\n",
      "[LightGBM] [Warning] feature_fraction is set=0.5, colsample_bytree=0.7 will be ignored. Current value: feature_fraction=0.5\n",
      "Training until validation scores don't improve for 500 rounds\n",
      "[200]\ttraining's auc: 0.989907\tvalid_1's auc: 0.923307\n",
      "[400]\ttraining's auc: 0.997936\tvalid_1's auc: 0.929545\n",
      "[600]\ttraining's auc: 0.999314\tvalid_1's auc: 0.930498\n",
      "[800]\ttraining's auc: 0.99969\tvalid_1's auc: 0.930608\n",
      "[1000]\ttraining's auc: 0.999836\tvalid_1's auc: 0.930141\n",
      "[1200]\ttraining's auc: 0.999898\tvalid_1's auc: 0.929318\n",
      "Early stopping, best iteration is:\n",
      "[776]\ttraining's auc: 0.999662\tvalid_1's auc: 0.930659\n",
      "Training Set Classification Report\n"
     ]
    },
    {
     "data": {
      "image/png": "[encoded data removed]",
      "text/plain": [
       "<Figure size 432x288 with 2 Axes>"
      ]
     },
     "metadata": {
      "needs_background": "light"
     },
     "output_type": "display_data"
    },
    {
     "name": "stdout",
     "output_type": "stream",
     "text": [
      "              precision    recall  f1-score   support\n",
      "\n",
      "           0       1.00      1.00      1.00    481056\n",
      "           1       0.91      0.99      0.95     16974\n",
      "\n",
      "    accuracy                           1.00    498030\n",
      "   macro avg       0.96      0.99      0.97    498030\n",
      "weighted avg       1.00      1.00      1.00    498030\n",
      "\n",
      "Validation Set Classification Report\n"
     ]
    },
    {
     "data": {
      "image/png": "[encoded data removed]",
      "text/plain": [
       "<Figure size 432x288 with 2 Axes>"
      ]
     },
     "metadata": {
      "needs_background": "light"
     },
     "output_type": "display_data"
    },
    {
     "name": "stdout",
     "output_type": "stream",
     "text": [
      "              precision    recall  f1-score   support\n",
      "\n",
      "           0       0.98      0.99      0.99     88821\n",
      "           1       0.79      0.47      0.59      3689\n",
      "\n",
      "    accuracy                           0.97     92510\n",
      "   macro avg       0.88      0.73      0.79     92510\n",
      "weighted avg       0.97      0.97      0.97     92510\n",
      "\n"
     ]
    },
    {
     "data": {
      "image/png": "[encoded data removed]",
      "text/plain": [
       "<Figure size 432x288 with 1 Axes>"
      ]
     },
     "metadata": {
      "needs_background": "light"
     },
     "output_type": "display_data"
    },
    {
     "name": "stdout",
     "output_type": "stream",
     "text": [
      "Training on fold 4 (Withholding Month: 17)\n",
      "Train size: 498113 Test Size: 92427\n",
      "[LightGBM] [Warning] feature_fraction is set=0.5, colsample_bytree=0.7 will be ignored. Current value: feature_fraction=0.5\n",
      "Training until validation scores don't improve for 500 rounds\n",
      "[200]\ttraining's auc: 0.989833\tvalid_1's auc: 0.914389\n",
      "[400]\ttraining's auc: 0.997932\tvalid_1's auc: 0.920477\n",
      "[600]\ttraining's auc: 0.999303\tvalid_1's auc: 0.921748\n",
      "[800]\ttraining's auc: 0.999684\tvalid_1's auc: 0.92194\n",
      "[1000]\ttraining's auc: 0.999832\tvalid_1's auc: 0.921191\n",
      "[1200]\ttraining's auc: 0.999901\tvalid_1's auc: 0.920846\n",
      "Early stopping, best iteration is:\n",
      "[723]\ttraining's auc: 0.999582\tvalid_1's auc: 0.922267\n",
      "Training Set Classification Report\n"
     ]
    },
    {
     "data": {
      "image/png": "[encoded data removed]",
      "text/plain": [
       "<Figure size 432x288 with 2 Axes>"
      ]
     },
     "metadata": {
      "needs_background": "light"
     },
     "output_type": "display_data"
    },
    {
     "name": "stdout",
     "output_type": "stream",
     "text": [
      "              precision    recall  f1-score   support\n",
      "\n",
      "           0       1.00      1.00      1.00    480663\n",
      "           1       0.90      0.99      0.94     17450\n",
      "\n",
      "    accuracy                           1.00    498113\n",
      "   macro avg       0.95      0.99      0.97    498113\n",
      "weighted avg       1.00      1.00      1.00    498113\n",
      "\n",
      "Validation Set Classification Report\n"
     ]
    },
    {
     "data": {
      "image/png": "[encoded data removed]",
      "text/plain": [
       "<Figure size 432x288 with 2 Axes>"
      ]
     },
     "metadata": {
      "needs_background": "light"
     },
     "output_type": "display_data"
    },
    {
     "name": "stdout",
     "output_type": "stream",
     "text": [
      "              precision    recall  f1-score   support\n",
      "\n",
      "           0       0.98      0.99      0.99     89214\n",
      "           1       0.67      0.45      0.54      3213\n",
      "\n",
      "    accuracy                           0.97     92427\n",
      "   macro avg       0.83      0.72      0.76     92427\n",
      "weighted avg       0.97      0.97      0.97     92427\n",
      "\n"
     ]
    },
    {
     "data": {
      "image/png": "[encoded data removed]",
      "text/plain": [
       "<Figure size 432x288 with 1 Axes>"
      ]
     },
     "metadata": {
      "needs_background": "light"
     },
     "output_type": "display_data"
    },
    {
     "name": "stdout",
     "output_type": "stream",
     "text": [
      "Training on fold 5 (Withholding Month: 14)\n",
      "Train size: 421244 Test Size: 169296\n",
      "[LightGBM] [Warning] feature_fraction is set=0.5, colsample_bytree=0.7 will be ignored. Current value: feature_fraction=0.5\n",
      "Training until validation scores don't improve for 500 rounds\n",
      "[200]\ttraining's auc: 0.991327\tvalid_1's auc: 0.91994\n",
      "[400]\ttraining's auc: 0.998288\tvalid_1's auc: 0.927688\n",
      "[600]\ttraining's auc: 0.99943\tvalid_1's auc: 0.929508\n",
      "[800]\ttraining's auc: 0.999743\tvalid_1's auc: 0.930226\n",
      "[1000]\ttraining's auc: 0.999863\tvalid_1's auc: 0.930539\n",
      "[1200]\ttraining's auc: 0.999917\tvalid_1's auc: 0.930632\n",
      "[1400]\ttraining's auc: 0.999945\tvalid_1's auc: 0.930584\n",
      "[1600]\ttraining's auc: 0.99996\tvalid_1's auc: 0.930444\n",
      "Early stopping, best iteration is:\n",
      "[1248]\ttraining's auc: 0.999925\tvalid_1's auc: 0.930672\n",
      "Training Set Classification Report\n"
     ]
    },
    {
     "data": {
      "image/png": "[encoded data removed]",
      "text/plain": [
       "<Figure size 432x288 with 2 Axes>"
      ]
     },
     "metadata": {
      "needs_background": "light"
     },
     "output_type": "display_data"
    },
    {
     "name": "stdout",
     "output_type": "stream",
     "text": [
      "              precision    recall  f1-score   support\n",
      "\n",
      "           0       1.00      1.00      1.00    406911\n",
      "           1       0.96      0.99      0.97     14333\n",
      "\n",
      "    accuracy                           1.00    421244\n",
      "   macro avg       0.98      0.99      0.99    421244\n",
      "weighted avg       1.00      1.00      1.00    421244\n",
      "\n",
      "Validation Set Classification Report\n"
     ]
    },
    {
     "data": {
      "image/png": "[encoded data removed]",
      "text/plain": [
       "<Figure size 432x288 with 2 Axes>"
      ]
     },
     "metadata": {
      "needs_background": "light"
     },
     "output_type": "display_data"
    },
    {
     "name": "stdout",
     "output_type": "stream",
     "text": [
      "              precision    recall  f1-score   support\n",
      "\n",
      "           0       0.98      1.00      0.99    162966\n",
      "           1       0.79      0.45      0.57      6330\n",
      "\n",
      "    accuracy                           0.97    169296\n",
      "   macro avg       0.88      0.72      0.78    169296\n",
      "weighted avg       0.97      0.97      0.97    169296\n",
      "\n"
     ]
    },
    {
     "data": {
      "image/png": "[encoded data removed]",
      "text/plain": [
       "<Figure size 432x288 with 1 Axes>"
      ]
     },
     "metadata": {
      "needs_background": "light"
     },
     "output_type": "display_data"
    },
    {
     "name": "stdout",
     "output_type": "stream",
     "text": [
      "--------------------------------------------------\n",
      "Mean AUC: 0.9190747879327897\n",
      "--------------------------------------------------\n"
     ]
    }
   ],
   "source": [
    "folds = GroupKFold(n_splits=5)\n",
    "\n",
    "y_oof = np.zeros(y.shape[0])\n",
    "y_test_pred = np.zeros(test.shape[0])\n",
    "\n",
    "weights = y.value_counts(normalize = True).min() / y.value_counts(normalize = True)\n",
    "train_weights = pd.DataFrame(y.rename('old_target')).merge(\n",
    "    weights, \n",
    "    how = 'left', \n",
    "    left_on = 'old_target', \n",
    "    right_on = weights.index)['isFraud'].values\n",
    "\n",
    "aucs = list()\n",
    "feature_importances = pd.DataFrame()\n",
    "feature_importances['feature'] = X.columns\n",
    "\n",
    "for fold, (trn_idx, test_idx) in enumerate(folds.split(X, y, groups=X['Month'])):\n",
    "    month = X.iloc[test_idx]['Month'].iloc[0]\n",
    "    print(f'Training on fold {fold + 1} (Withholding Month: {month})')\n",
    "    print(f'Train size: {len(trn_idx)} Test Size: {len(test_idx)}')\n",
    "\n",
    "    trn_data = lgb.Dataset(X.iloc[trn_idx], label=y.iloc[trn_idx], weight=train_weights[trn_idx])\n",
    "    val_data = lgb.Dataset(X.iloc[test_idx], label=y.iloc[test_idx], weight=train_weights[test_idx])\n",
    "\n",
    "    clf = lgb.train(\n",
    "        hyper_parameters, \n",
    "        trn_data, 10000, \n",
    "        valid_sets = [trn_data, val_data], \n",
    "        verbose_eval=200, \n",
    "        early_stopping_rounds=500\n",
    "    )\n",
    "    \n",
    "    # predict validation\n",
    "    y_pred = clf.predict(X.iloc[test_idx])\n",
    "    y_oof[test_idx] = y_pred\n",
    "    \n",
    "    # predict test\n",
    "    y_test_pred += clf.predict(test) / folds.n_splits\n",
    "    \n",
    "    # Confusion matrix for train and validation\n",
    "    \n",
    "    print('Training Set Classification Report')\n",
    "    threshold = 0.70\n",
    "    y_train_pred = (clf.predict(X.iloc[trn_idx]) > threshold).astype('float')\n",
    "    make_classification_report(y_test=y[trn_idx], y_pred=y_train_pred)\n",
    "    \n",
    "    print('Validation Set Classification Report')\n",
    "    y_valid_pred = (y_pred > threshold).astype('float')\n",
    "    make_classification_report(y_test=y[test_idx], y_pred=y_valid_pred)\n",
    "    \n",
    "    build_roc(y[test_idx], y_pred)\n",
    "\n",
    "    feature_importances[f'fold_{fold + 1}'] = clf.feature_importance()\n",
    "    aucs.append(clf.best_score['valid_1']['auc'])\n",
    "\n",
    "print('-' * 50)\n",
    "print('Mean AUC:', np.mean(aucs))\n",
    "print('-' * 50)"
   ]
  },
  {
   "cell_type": "code",
   "execution_count": null,
   "id": "9d00ffff",
   "metadata": {},
   "outputs": [],
   "source": [
    "sub = pd.read_csv('data/sample_submission.csv')\n",
    "sub.isFraud = y_test_pred\n",
    "sub.to_csv('sub_lgb.csv', index=False)"
   ]
  }
 ],
 "metadata": {
  "kernelspec": {
   "display_name": "Python 3",
   "language": "python",
   "name": "python3"
  },
  "language_info": {
   "codemirror_mode": {
    "name": "ipython",
    "version": 3
   },
   "file_extension": ".py",
   "mimetype": "text/x-python",
   "name": "python",
   "nbconvert_exporter": "python",
   "pygments_lexer": "ipython3",
   "version": "3.8.8"
  }
 },
 "nbformat": 4,
 "nbformat_minor": 5
}
